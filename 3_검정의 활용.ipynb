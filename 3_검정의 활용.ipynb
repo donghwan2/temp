{
 "cells": [
  {
   "cell_type": "markdown",
   "id": "8a8d9cf6",
   "metadata": {},
   "source": [
    "### 목차\n",
    "\n",
    "1. 통계 검정의 이해                         - ch.3-2\n",
    "2. 상관계수 검정                            - ch.3-2\n",
    "3. 두 그룹 평균 차이 검정(t검정)               - ch.3-3\n",
    "4. 세 그룹 이상 평균 차이 분석(분산분석)         - ch.3-4\n",
    "5. 범주형 변수의 교차표와 독립성 검정(카이제곱검정) - ch.3-5\n",
    "\n",
    "### 목표 \n",
    "1. 통계 검정의 종류들에 대해 이해한다.\n",
    "2. 상황마다 적절한 통계 검정에 대해 정리한다."
   ]
  },
  {
   "cell_type": "markdown",
   "id": "76e4c927",
   "metadata": {},
   "source": [
    "## 라이브러리 불러오기"
   ]
  },
  {
   "cell_type": "code",
   "execution_count": 1,
   "id": "1567d0fc",
   "metadata": {},
   "outputs": [],
   "source": [
    "import numpy as np\n",
    "import pandas as pd\n",
    "\n",
    "# 그래프 라이브러리\n",
    "import seaborn as sns\n",
    "import matplotlib.pyplot as plt\n",
    "\n",
    "# 과학 라이브러리\n",
    "from scipy import stats # 검정에 활용\n",
    "\n",
    "# 워닝 무시\n",
    "import warnings\n",
    "warnings.filterwarnings('ignore')"
   ]
  },
  {
   "cell_type": "code",
   "execution_count": 2,
   "id": "149a2bf4",
   "metadata": {},
   "outputs": [
    {
     "name": "stdout",
     "output_type": "stream",
     "text": [
      "0.1\n",
      "0.03\n",
      "31400.0\n"
     ]
    }
   ],
   "source": [
    "# e : 10의 지수승 \n",
    "print(1e-1)\n",
    "print(30e-3)\n",
    "print(3.14e+4)"
   ]
  },
  {
   "cell_type": "markdown",
   "id": "9e7039ec",
   "metadata": {},
   "source": [
    "<br>\n",
    "<br>\n",
    "\n",
    "## 예제 및 실습 데이터 불러오기"
   ]
  },
  {
   "cell_type": "code",
   "execution_count": 3,
   "id": "d8b0a22e",
   "metadata": {
    "scrolled": false
   },
   "outputs": [
    {
     "name": "stdout",
     "output_type": "stream",
     "text": [
      "(1338, 7)\n"
     ]
    },
    {
     "data": {
      "text/html": [
       "<div>\n",
       "<style scoped>\n",
       "    .dataframe tbody tr th:only-of-type {\n",
       "        vertical-align: middle;\n",
       "    }\n",
       "\n",
       "    .dataframe tbody tr th {\n",
       "        vertical-align: top;\n",
       "    }\n",
       "\n",
       "    .dataframe thead th {\n",
       "        text-align: right;\n",
       "    }\n",
       "</style>\n",
       "<table border=\"1\" class=\"dataframe\">\n",
       "  <thead>\n",
       "    <tr style=\"text-align: right;\">\n",
       "      <th></th>\n",
       "      <th>age</th>\n",
       "      <th>sex</th>\n",
       "      <th>bmi</th>\n",
       "      <th>children</th>\n",
       "      <th>smoker</th>\n",
       "      <th>region</th>\n",
       "      <th>charges</th>\n",
       "    </tr>\n",
       "  </thead>\n",
       "  <tbody>\n",
       "    <tr>\n",
       "      <th>0</th>\n",
       "      <td>19</td>\n",
       "      <td>female</td>\n",
       "      <td>27.900</td>\n",
       "      <td>0</td>\n",
       "      <td>yes</td>\n",
       "      <td>southwest</td>\n",
       "      <td>16884.92400</td>\n",
       "    </tr>\n",
       "    <tr>\n",
       "      <th>1</th>\n",
       "      <td>18</td>\n",
       "      <td>male</td>\n",
       "      <td>33.770</td>\n",
       "      <td>1</td>\n",
       "      <td>no</td>\n",
       "      <td>southeast</td>\n",
       "      <td>1725.55230</td>\n",
       "    </tr>\n",
       "    <tr>\n",
       "      <th>2</th>\n",
       "      <td>28</td>\n",
       "      <td>male</td>\n",
       "      <td>33.000</td>\n",
       "      <td>3</td>\n",
       "      <td>no</td>\n",
       "      <td>southeast</td>\n",
       "      <td>4449.46200</td>\n",
       "    </tr>\n",
       "    <tr>\n",
       "      <th>3</th>\n",
       "      <td>33</td>\n",
       "      <td>male</td>\n",
       "      <td>22.705</td>\n",
       "      <td>0</td>\n",
       "      <td>no</td>\n",
       "      <td>northwest</td>\n",
       "      <td>21984.47061</td>\n",
       "    </tr>\n",
       "    <tr>\n",
       "      <th>4</th>\n",
       "      <td>32</td>\n",
       "      <td>male</td>\n",
       "      <td>28.880</td>\n",
       "      <td>0</td>\n",
       "      <td>no</td>\n",
       "      <td>northwest</td>\n",
       "      <td>3866.85520</td>\n",
       "    </tr>\n",
       "  </tbody>\n",
       "</table>\n",
       "</div>"
      ],
      "text/plain": [
       "   age     sex     bmi  children smoker     region      charges\n",
       "0   19  female  27.900         0    yes  southwest  16884.92400\n",
       "1   18    male  33.770         1     no  southeast   1725.55230\n",
       "2   28    male  33.000         3     no  southeast   4449.46200\n",
       "3   33    male  22.705         0     no  northwest  21984.47061\n",
       "4   32    male  28.880         0     no  northwest   3866.85520"
      ]
     },
     "execution_count": 3,
     "metadata": {},
     "output_type": "execute_result"
    }
   ],
   "source": [
    "# 보험 데이터 불러오기\n",
    "df_ins = pd.read_csv('data/insurance.csv')\n",
    "\n",
    "print(df_ins.shape)\n",
    "df_ins.head()"
   ]
  },
  {
   "cell_type": "code",
   "execution_count": 4,
   "id": "e132ca36",
   "metadata": {},
   "outputs": [],
   "source": [
    "# 수치형 변수들의 기초통계량 확인\n"
   ]
  },
  {
   "cell_type": "code",
   "execution_count": 5,
   "id": "0632d8ff",
   "metadata": {},
   "outputs": [],
   "source": [
    "# 변수들의 데이터타입 확인\n"
   ]
  },
  {
   "cell_type": "code",
   "execution_count": 6,
   "id": "66448535",
   "metadata": {
    "scrolled": false
   },
   "outputs": [
    {
     "name": "stdout",
     "output_type": "stream",
     "text": [
      "(1000, 8)\n"
     ]
    },
    {
     "data": {
      "text/html": [
       "<div>\n",
       "<style scoped>\n",
       "    .dataframe tbody tr th:only-of-type {\n",
       "        vertical-align: middle;\n",
       "    }\n",
       "\n",
       "    .dataframe tbody tr th {\n",
       "        vertical-align: top;\n",
       "    }\n",
       "\n",
       "    .dataframe thead th {\n",
       "        text-align: right;\n",
       "    }\n",
       "</style>\n",
       "<table border=\"1\" class=\"dataframe\">\n",
       "  <thead>\n",
       "    <tr style=\"text-align: right;\">\n",
       "      <th></th>\n",
       "      <th>gender</th>\n",
       "      <th>race/ethnicity</th>\n",
       "      <th>parental level of education</th>\n",
       "      <th>lunch</th>\n",
       "      <th>test preparation course</th>\n",
       "      <th>math score</th>\n",
       "      <th>reading score</th>\n",
       "      <th>writing score</th>\n",
       "    </tr>\n",
       "  </thead>\n",
       "  <tbody>\n",
       "    <tr>\n",
       "      <th>0</th>\n",
       "      <td>female</td>\n",
       "      <td>group B</td>\n",
       "      <td>bachelor's degree</td>\n",
       "      <td>standard</td>\n",
       "      <td>none</td>\n",
       "      <td>72</td>\n",
       "      <td>72</td>\n",
       "      <td>74</td>\n",
       "    </tr>\n",
       "    <tr>\n",
       "      <th>1</th>\n",
       "      <td>female</td>\n",
       "      <td>group C</td>\n",
       "      <td>some college</td>\n",
       "      <td>standard</td>\n",
       "      <td>completed</td>\n",
       "      <td>69</td>\n",
       "      <td>90</td>\n",
       "      <td>88</td>\n",
       "    </tr>\n",
       "    <tr>\n",
       "      <th>2</th>\n",
       "      <td>female</td>\n",
       "      <td>group B</td>\n",
       "      <td>master's degree</td>\n",
       "      <td>standard</td>\n",
       "      <td>none</td>\n",
       "      <td>90</td>\n",
       "      <td>95</td>\n",
       "      <td>93</td>\n",
       "    </tr>\n",
       "    <tr>\n",
       "      <th>3</th>\n",
       "      <td>male</td>\n",
       "      <td>group A</td>\n",
       "      <td>associate's degree</td>\n",
       "      <td>free/reduced</td>\n",
       "      <td>none</td>\n",
       "      <td>47</td>\n",
       "      <td>57</td>\n",
       "      <td>44</td>\n",
       "    </tr>\n",
       "    <tr>\n",
       "      <th>4</th>\n",
       "      <td>male</td>\n",
       "      <td>group C</td>\n",
       "      <td>some college</td>\n",
       "      <td>standard</td>\n",
       "      <td>none</td>\n",
       "      <td>76</td>\n",
       "      <td>78</td>\n",
       "      <td>75</td>\n",
       "    </tr>\n",
       "  </tbody>\n",
       "</table>\n",
       "</div>"
      ],
      "text/plain": [
       "   gender race/ethnicity parental level of education         lunch  \\\n",
       "0  female        group B           bachelor's degree      standard   \n",
       "1  female        group C                some college      standard   \n",
       "2  female        group B             master's degree      standard   \n",
       "3    male        group A          associate's degree  free/reduced   \n",
       "4    male        group C                some college      standard   \n",
       "\n",
       "  test preparation course  math score  reading score  writing score  \n",
       "0                    none          72             72             74  \n",
       "1               completed          69             90             88  \n",
       "2                    none          90             95             93  \n",
       "3                    none          47             57             44  \n",
       "4                    none          76             78             75  "
      ]
     },
     "execution_count": 6,
     "metadata": {},
     "output_type": "execute_result"
    }
   ],
   "source": [
    "# 성적 데이터 불러오기\n",
    "df_sp = pd.read_csv('data/StudentsPerformance.csv')\n",
    "\n",
    "print(df_sp.shape)\n",
    "df_sp.head()"
   ]
  },
  {
   "cell_type": "code",
   "execution_count": 7,
   "id": "4a5c3f29",
   "metadata": {},
   "outputs": [
    {
     "name": "stdout",
     "output_type": "stream",
     "text": [
      "(1078, 2)\n"
     ]
    },
    {
     "data": {
      "text/html": [
       "<div>\n",
       "<style scoped>\n",
       "    .dataframe tbody tr th:only-of-type {\n",
       "        vertical-align: middle;\n",
       "    }\n",
       "\n",
       "    .dataframe tbody tr th {\n",
       "        vertical-align: top;\n",
       "    }\n",
       "\n",
       "    .dataframe thead th {\n",
       "        text-align: right;\n",
       "    }\n",
       "</style>\n",
       "<table border=\"1\" class=\"dataframe\">\n",
       "  <thead>\n",
       "    <tr style=\"text-align: right;\">\n",
       "      <th></th>\n",
       "      <th>father</th>\n",
       "      <th>son</th>\n",
       "    </tr>\n",
       "  </thead>\n",
       "  <tbody>\n",
       "    <tr>\n",
       "      <th>0</th>\n",
       "      <td>165.223215</td>\n",
       "      <td>151.836806</td>\n",
       "    </tr>\n",
       "    <tr>\n",
       "      <th>1</th>\n",
       "      <td>160.657388</td>\n",
       "      <td>160.563662</td>\n",
       "    </tr>\n",
       "    <tr>\n",
       "      <th>2</th>\n",
       "      <td>164.986513</td>\n",
       "      <td>160.889747</td>\n",
       "    </tr>\n",
       "    <tr>\n",
       "      <th>3</th>\n",
       "      <td>167.011350</td>\n",
       "      <td>159.492645</td>\n",
       "    </tr>\n",
       "    <tr>\n",
       "      <th>4</th>\n",
       "      <td>155.288564</td>\n",
       "      <td>163.274070</td>\n",
       "    </tr>\n",
       "  </tbody>\n",
       "</table>\n",
       "</div>"
      ],
      "text/plain": [
       "       father         son\n",
       "0  165.223215  151.836806\n",
       "1  160.657388  160.563662\n",
       "2  164.986513  160.889747\n",
       "3  167.011350  159.492645\n",
       "4  155.288564  163.274070"
      ]
     },
     "execution_count": 7,
     "metadata": {},
     "output_type": "execute_result"
    }
   ],
   "source": [
    "# 아빠키 아들키 불러오기\n",
    "df_heights = pd.read_csv('data/heights.csv')\n",
    "\n",
    "print(df_heights.shape)\n",
    "df_heights.head()"
   ]
  },
  {
   "cell_type": "markdown",
   "id": "6200027a",
   "metadata": {},
   "source": [
    "<br>\n",
    "\n",
    "## 1. 통계 검정의 이해  "
   ]
  },
  {
   "cell_type": "raw",
   "id": "d5015965",
   "metadata": {},
   "source": [
    "ch. 3-2"
   ]
  },
  {
   "cell_type": "raw",
   "id": "e9244f4b",
   "metadata": {},
   "source": [
    "\"무언가 주장하고 싶을 때, 반대 가설을 가정하고 내가 주장하는 결과가 나올 확률(p-value)을 계산해본다.\n",
    "그 확률값이 0.05보다 낮으면 반대 가설을 기각하고 내가 주장하는 결과를 채택한다.\""
   ]
  },
  {
   "cell_type": "markdown",
   "id": "797c7d54",
   "metadata": {},
   "source": [
    "### 1.1. 일표본 평균 검정 예제\n",
    "\n",
    "p-value(유의확률)의 계산과 단측 검정/양측 검정의 이해\n",
    "\n",
    "#### 1.1.1. 가설 설정 및 유의수준 지정\n",
    "\n",
    "+ 가설 설정\n",
    "    + $H_0$: 아들키의 평균은 174이다.  \n",
    "    + $H_1$: 아들키의 평균은 174보다 크다.\n",
    "\n",
    "+ 유의 수준(해당 업계/학계의 통용 기준을 활용)\n",
    "    + 일반적으로 0.05로 설정"
   ]
  },
  {
   "cell_type": "markdown",
   "id": "95c7abbb",
   "metadata": {},
   "source": [
    "#### 1.1.2. 기술 통계량 계산"
   ]
  },
  {
   "cell_type": "code",
   "execution_count": 8,
   "id": "3e4d6489",
   "metadata": {},
   "outputs": [
    {
     "data": {
      "text/plain": [
       "1078"
      ]
     },
     "execution_count": 8,
     "metadata": {},
     "output_type": "execute_result"
    }
   ],
   "source": [
    "# 관측치 수\n",
    "df_heights['son'].count()"
   ]
  },
  {
   "cell_type": "code",
   "execution_count": 9,
   "id": "0daf1549",
   "metadata": {},
   "outputs": [
    {
     "data": {
      "text/plain": [
       "0       151.836806\n",
       "1       160.563662\n",
       "2       160.889747\n",
       "3       159.492645\n",
       "4       163.274070\n",
       "           ...    \n",
       "1073    179.710893\n",
       "1074    173.400060\n",
       "1075    176.036961\n",
       "1076    176.027055\n",
       "1077    170.218100\n",
       "Name: son, Length: 1078, dtype: float64"
      ]
     },
     "execution_count": 9,
     "metadata": {},
     "output_type": "execute_result"
    }
   ],
   "source": [
    "df_heights['son']"
   ]
  },
  {
   "cell_type": "code",
   "execution_count": 10,
   "id": "0c815251",
   "metadata": {},
   "outputs": [
    {
     "data": {
      "text/plain": [
       "174.45753692820037"
      ]
     },
     "execution_count": 10,
     "metadata": {},
     "output_type": "execute_result"
    }
   ],
   "source": [
    "# 데이터의 아들키 평균(174.45)\n",
    "df_heights['son'].mean()\n",
    "# np.mean(df_heights['son'])"
   ]
  },
  {
   "cell_type": "code",
   "execution_count": 11,
   "id": "7124d96f",
   "metadata": {},
   "outputs": [
    {
     "data": {
      "text/plain": [
       "7.1493420461869"
      ]
     },
     "execution_count": 11,
     "metadata": {},
     "output_type": "execute_result"
    }
   ],
   "source": [
    "# 표준 편차\n",
    "df_heights['son'].std()\n",
    "# np.std(df_heights['son'], ddof=1)"
   ]
  },
  {
   "cell_type": "markdown",
   "id": "2ed410c0",
   "metadata": {},
   "source": [
    "#### 1.1.3. 랜덤 키 데이터를 활용한 분포 생성\n",
    "\n",
    "numpy의 **random** 모듈의 normal()함수를 활용하여 $H_0$ 기준 가짜 아들키 데이터 10,000개 생성 후 평균 분포 확인 가능"
   ]
  },
  {
   "cell_type": "code",
   "execution_count": 12,
   "id": "8ecfea78",
   "metadata": {},
   "outputs": [
    {
     "data": {
      "text/plain": [
       "1078"
      ]
     },
     "execution_count": 12,
     "metadata": {},
     "output_type": "execute_result"
    }
   ],
   "source": [
    "h_cnt  = df_heights['son'].count()\n",
    "h_cnt"
   ]
  },
  {
   "cell_type": "code",
   "execution_count": 13,
   "id": "22b5b364",
   "metadata": {},
   "outputs": [
    {
     "data": {
      "text/plain": [
       "174.45753692820037"
      ]
     },
     "execution_count": 13,
     "metadata": {},
     "output_type": "execute_result"
    }
   ],
   "source": [
    "h_mean = df_heights['son'].mean() \n",
    "h_mean"
   ]
  },
  {
   "cell_type": "code",
   "execution_count": 14,
   "id": "32f46d3b",
   "metadata": {},
   "outputs": [
    {
     "data": {
      "text/plain": [
       "7.1493420461869"
      ]
     },
     "execution_count": 14,
     "metadata": {},
     "output_type": "execute_result"
    }
   ],
   "source": [
    "h_std  = df_heights['son'].std()  \n",
    "h_std"
   ]
  },
  {
   "cell_type": "code",
   "execution_count": 15,
   "id": "643cf180",
   "metadata": {},
   "outputs": [
    {
     "name": "stdout",
     "output_type": "stream",
     "text": [
      "1078\n"
     ]
    },
    {
     "data": {
      "text/plain": [
       "array([168.34753832, 173.94225069, 165.57407189, ..., 180.88824915,\n",
       "       158.31458583, 175.27936418])"
      ]
     },
     "execution_count": 15,
     "metadata": {},
     "output_type": "execute_result"
    }
   ],
   "source": [
    "# 아들 키가 174라는 가정하에 랜덤으로 아들키 1,078개 생성(가짜 데이터 생성)\n",
    "# np.random.normal(평균, 표준편차, 샘플의 사이즈)\n",
    "print(len(np.random.normal(174, h_std, h_cnt)))\n",
    "np.random.normal(174, h_std, h_cnt)"
   ]
  },
  {
   "cell_type": "code",
   "execution_count": 16,
   "id": "6f97a99d",
   "metadata": {},
   "outputs": [
    {
     "data": {
      "text/plain": [
       "174.04948021053454"
      ]
     },
     "execution_count": 16,
     "metadata": {},
     "output_type": "execute_result"
    }
   ],
   "source": [
    "# 가짜 데이터의 평균 값 계산 \n",
    "np.random.normal(174, h_std, h_cnt).mean()"
   ]
  },
  {
   "cell_type": "code",
   "execution_count": 17,
   "id": "77ad0a05",
   "metadata": {},
   "outputs": [],
   "source": [
    "# 위의 작업(가짜 데이터 생성)을 10,000번 반복하고 평균 확인\n",
    "fake_means = []\n",
    "\n",
    "for i in range(10000):\n",
    "    fake_means.append(np.random.normal(174, h_std, h_cnt).mean())"
   ]
  },
  {
   "cell_type": "code",
   "execution_count": 18,
   "id": "3ac40a7b",
   "metadata": {},
   "outputs": [
    {
     "data": {
      "text/plain": [
       "[174.2098325906739,\n",
       " 173.91573145563208,\n",
       " 174.41646304756514,\n",
       " 174.24969066600656,\n",
       " 173.63460377107504,\n",
       " 173.6759151428764,\n",
       " 173.76171704929095,\n",
       " 173.99291943989263,\n",
       " 173.98479653943153,\n",
       " 173.9040178488637]"
      ]
     },
     "execution_count": 18,
     "metadata": {},
     "output_type": "execute_result"
    }
   ],
   "source": [
    "# 10개만 확인해보면, 대부분 174 근처의 값들이라는 것을 확인할 수 있다.\n",
    "fake_means[:10]"
   ]
  },
  {
   "cell_type": "code",
   "execution_count": 19,
   "id": "048989d7",
   "metadata": {},
   "outputs": [
    {
     "data": {
      "image/png": "[encoded data removed]",
      "text/plain": [
       "<Figure size 640x480 with 1 Axes>"
      ]
     },
     "metadata": {},
     "output_type": "display_data"
    }
   ],
   "source": [
    "# 히스토그램을 활용한 분포 확인\n",
    "sns.histplot(x = fake_means)\n",
    "plt.show();"
   ]
  },
  {
   "cell_type": "raw",
   "id": "e2ec0a0d",
   "metadata": {},
   "source": [
    "# 대부분의 가짜 데이터의 평균들이 실제 아들키 평균(174.45)보다 작다."
   ]
  },
  {
   "cell_type": "code",
   "execution_count": 20,
   "id": "24ff8751",
   "metadata": {
    "scrolled": true
   },
   "outputs": [
    {
     "data": {
      "text/plain": [
       "174.45753692820037"
      ]
     },
     "execution_count": 20,
     "metadata": {},
     "output_type": "execute_result"
    }
   ],
   "source": [
    "# 실제 아들키 평균\n",
    "h_mean"
   ]
  },
  {
   "cell_type": "code",
   "execution_count": 21,
   "id": "7431f55e",
   "metadata": {
    "scrolled": true
   },
   "outputs": [
    {
     "data": {
      "text/plain": [
       "174"
      ]
     },
     "execution_count": 21,
     "metadata": {},
     "output_type": "execute_result"
    }
   ],
   "source": [
    "# 가짜 평균과 실제 평균의 비교\n",
    "# 가짜 평균 10,000개 중에서 실제 평균보다 큰 것의 개수\n",
    "np.sum(np.array(fake_means) >= h_mean)"
   ]
  },
  {
   "cell_type": "code",
   "execution_count": 22,
   "id": "dae38628",
   "metadata": {},
   "outputs": [],
   "source": [
    "# 해석 : 가짜 평균 데이터(10,000개) 중 실제 평균키인 174.45보다 큰 것은 1xx개밖에 없음.\n",
    "#       => 키가 174.45가 우연히 나올 확률은 매우 희박하다. "
   ]
  },
  {
   "cell_type": "code",
   "execution_count": 23,
   "id": "b7c99dd8",
   "metadata": {},
   "outputs": [
    {
     "data": {
      "text/plain": [
       "0.0174"
      ]
     },
     "execution_count": 23,
     "metadata": {},
     "output_type": "execute_result"
    }
   ],
   "source": [
    "# p-value 계산\n",
    "# 귀무가설(키 평균이 174) 기준으로 실제 데이터의 평균 174.45가 나올 확률\n",
    "np.sum(np.array(fake_means) >= h_mean)/10000"
   ]
  },
  {
   "cell_type": "code",
   "execution_count": 24,
   "id": "b56fdff2",
   "metadata": {},
   "outputs": [],
   "source": [
    "# 1.78% => p-value < 0.05 => 귀무가설 기각. \"아들키의 평균은 174보다 크다고 할 수 있다\"\n",
    "# 만약 10%이었다면 => p-value > 0.05 => 귀무가설을 기각할 수 없다. 174보다 크다고 말할 수 없다."
   ]
  },
  {
   "cell_type": "markdown",
   "id": "6ee7ca03",
   "metadata": {},
   "source": [
    "##### [결론] \n",
    "p-value가 0.0xxx로 유의수준 0.05보다 작으므로 $H_1$을 선택  \n",
    "> \"아들키의 평균은 174보다 크다고 할 수 있다\""
   ]
  },
  {
   "cell_type": "markdown",
   "id": "7046b78d",
   "metadata": {},
   "source": [
    "## 2. 상관계수 검정"
   ]
  },
  {
   "cell_type": "raw",
   "id": "4ca5de98",
   "metadata": {},
   "source": [
    "ch. 3-2"
   ]
  },
  {
   "cell_type": "code",
   "execution_count": 25,
   "id": "18b5f484",
   "metadata": {
    "scrolled": false
   },
   "outputs": [
    {
     "data": {
      "text/html": [
       "<div>\n",
       "<style scoped>\n",
       "    .dataframe tbody tr th:only-of-type {\n",
       "        vertical-align: middle;\n",
       "    }\n",
       "\n",
       "    .dataframe tbody tr th {\n",
       "        vertical-align: top;\n",
       "    }\n",
       "\n",
       "    .dataframe thead th {\n",
       "        text-align: right;\n",
       "    }\n",
       "</style>\n",
       "<table border=\"1\" class=\"dataframe\">\n",
       "  <thead>\n",
       "    <tr style=\"text-align: right;\">\n",
       "      <th></th>\n",
       "      <th>father</th>\n",
       "      <th>son</th>\n",
       "    </tr>\n",
       "  </thead>\n",
       "  <tbody>\n",
       "    <tr>\n",
       "      <th>0</th>\n",
       "      <td>165.223215</td>\n",
       "      <td>151.836806</td>\n",
       "    </tr>\n",
       "    <tr>\n",
       "      <th>1</th>\n",
       "      <td>160.657388</td>\n",
       "      <td>160.563662</td>\n",
       "    </tr>\n",
       "    <tr>\n",
       "      <th>2</th>\n",
       "      <td>164.986513</td>\n",
       "      <td>160.889747</td>\n",
       "    </tr>\n",
       "    <tr>\n",
       "      <th>3</th>\n",
       "      <td>167.011350</td>\n",
       "      <td>159.492645</td>\n",
       "    </tr>\n",
       "    <tr>\n",
       "      <th>4</th>\n",
       "      <td>155.288564</td>\n",
       "      <td>163.274070</td>\n",
       "    </tr>\n",
       "  </tbody>\n",
       "</table>\n",
       "</div>"
      ],
      "text/plain": [
       "       father         son\n",
       "0  165.223215  151.836806\n",
       "1  160.657388  160.563662\n",
       "2  164.986513  160.889747\n",
       "3  167.011350  159.492645\n",
       "4  155.288564  163.274070"
      ]
     },
     "execution_count": 25,
     "metadata": {},
     "output_type": "execute_result"
    }
   ],
   "source": [
    "# 키 데이터\n",
    "df_heights.head()"
   ]
  },
  {
   "cell_type": "code",
   "execution_count": 26,
   "id": "1ca565f2",
   "metadata": {
    "scrolled": true
   },
   "outputs": [
    {
     "data": {
      "text/html": [
       "<div>\n",
       "<style scoped>\n",
       "    .dataframe tbody tr th:only-of-type {\n",
       "        vertical-align: middle;\n",
       "    }\n",
       "\n",
       "    .dataframe tbody tr th {\n",
       "        vertical-align: top;\n",
       "    }\n",
       "\n",
       "    .dataframe thead th {\n",
       "        text-align: right;\n",
       "    }\n",
       "</style>\n",
       "<table border=\"1\" class=\"dataframe\">\n",
       "  <thead>\n",
       "    <tr style=\"text-align: right;\">\n",
       "      <th></th>\n",
       "      <th>father</th>\n",
       "      <th>son</th>\n",
       "    </tr>\n",
       "  </thead>\n",
       "  <tbody>\n",
       "    <tr>\n",
       "      <th>father</th>\n",
       "      <td>1.000000</td>\n",
       "      <td>0.501338</td>\n",
       "    </tr>\n",
       "    <tr>\n",
       "      <th>son</th>\n",
       "      <td>0.501338</td>\n",
       "      <td>1.000000</td>\n",
       "    </tr>\n",
       "  </tbody>\n",
       "</table>\n",
       "</div>"
      ],
      "text/plain": [
       "          father       son\n",
       "father  1.000000  0.501338\n",
       "son     0.501338  1.000000"
      ]
     },
     "execution_count": 26,
     "metadata": {},
     "output_type": "execute_result"
    }
   ],
   "source": [
    "# pandas의 corr()을 활용한 상관계수 계산\n",
    "df_heights.corr()"
   ]
  },
  {
   "cell_type": "code",
   "execution_count": 27,
   "id": "8b7090d6",
   "metadata": {},
   "outputs": [
    {
     "data": {
      "text/plain": [
       "array([[1.        , 0.50133831],\n",
       "       [0.50133831, 1.        ]])"
      ]
     },
     "execution_count": 27,
     "metadata": {},
     "output_type": "execute_result"
    }
   ],
   "source": [
    "# numpy의 corrcoef()를 활용한 상관계수 계산\n",
    "np.corrcoef(df_heights['father'], df_heights['son'])"
   ]
  },
  {
   "cell_type": "markdown",
   "id": "9e9f3b96",
   "metadata": {},
   "source": [
    "<br>\n",
    "\n",
    "### t분포를 활용한 상관분석\n",
    "\n",
    "\n",
    "상관계수와 관측치 수를 활용해서 t값을 계산하고 t분포를 활용해서 p-value를 계산 가능"
   ]
  },
  {
   "cell_type": "code",
   "execution_count": 28,
   "id": "5e1f585a",
   "metadata": {},
   "outputs": [
    {
     "data": {
      "text/plain": [
       "0.5013383111723433"
      ]
     },
     "execution_count": 28,
     "metadata": {},
     "output_type": "execute_result"
    }
   ],
   "source": [
    "# 실제 상관계수 계산\n",
    "corr_actual = np.corrcoef(df_heights['father'], df_heights['son'])[0, 1]\n",
    "corr_actual"
   ]
  },
  {
   "cell_type": "code",
   "execution_count": 29,
   "id": "6cc53ff8",
   "metadata": {},
   "outputs": [
    {
     "data": {
      "text/plain": [
       "1078"
      ]
     },
     "execution_count": 29,
     "metadata": {},
     "output_type": "execute_result"
    }
   ],
   "source": [
    "val_n = df_heights['father'].count()\n",
    "val_n"
   ]
  },
  {
   "cell_type": "code",
   "execution_count": 30,
   "id": "ee3e79fe",
   "metadata": {},
   "outputs": [
    {
     "data": {
      "text/plain": [
       "19.006175890429613"
      ]
     },
     "execution_count": 30,
     "metadata": {},
     "output_type": "execute_result"
    }
   ],
   "source": [
    "# 수식에 따라 t값 계산\n",
    "t_actual = np.sqrt(val_n-2)*corr_actual / np.sqrt(1-corr_actual**2)\n",
    "t_actual"
   ]
  },
  {
   "cell_type": "code",
   "execution_count": 31,
   "id": "6aba1394",
   "metadata": {
    "scrolled": true
   },
   "outputs": [
    {
     "data": {
      "image/png": "[encoded data removed]",
      "text/plain": [
       "<Figure size 640x480 with 1 Axes>"
      ]
     },
     "metadata": {},
     "output_type": "display_data"
    }
   ],
   "source": [
    "# (참고)t분포 확인\n",
    "x = np.linspace(-4, 4, 100)\n",
    "rv = stats.t(df=val_n - 2)\n",
    "sns.lineplot(x=x, y=rv.pdf(x))\n",
    "\n",
    "plt.show();"
   ]
  },
  {
   "cell_type": "code",
   "execution_count": 32,
   "id": "cdb069d5",
   "metadata": {},
   "outputs": [
    {
     "data": {
      "text/plain": [
       "0.0"
      ]
     },
     "execution_count": 32,
     "metadata": {},
     "output_type": "execute_result"
    }
   ],
   "source": [
    "# p-value 계산\n",
    "(1 - rv.cdf(t_actual))*2"
   ]
  },
  {
   "cell_type": "code",
   "execution_count": 33,
   "id": "a3c1f064",
   "metadata": {},
   "outputs": [],
   "source": [
    "# 귀무가설 기준으로 상관계수 0.5가 나올 확률은 0.00.......... 이다.\n",
    "# 즉, 아버지와 아들의 키의 상관계수 0.5는 유의미하다."
   ]
  },
  {
   "cell_type": "markdown",
   "id": "26ebc224",
   "metadata": {},
   "source": [
    "<br>\n",
    "\n",
    "### scipy를 활용한 상관분석\n",
    "\n",
    "scipy의 stats 모듈을 활용해 상관분석 가능"
   ]
  },
  {
   "cell_type": "code",
   "execution_count": 34,
   "id": "30cff2fc",
   "metadata": {},
   "outputs": [
    {
     "data": {
      "text/plain": [
       "PearsonRResult(statistic=0.5013383111723431, pvalue=1.1212675496318386e-69)"
      ]
     },
     "execution_count": 34,
     "metadata": {},
     "output_type": "execute_result"
    }
   ],
   "source": [
    "# 상관계수 계산 및 p-value 계산\n",
    "res = stats.pearsonr(df_heights['father'], df_heights['son'])\n",
    "res"
   ]
  },
  {
   "cell_type": "code",
   "execution_count": 35,
   "id": "fbb489c7",
   "metadata": {},
   "outputs": [
    {
     "data": {
      "text/plain": [
       "ConfidenceInterval(low=0.455258567454338, high=0.5447395729096159)"
      ]
     },
     "execution_count": 35,
     "metadata": {},
     "output_type": "execute_result"
    }
   ],
   "source": [
    "# 상관계수의 95% 신뢰구간\n",
    "res.confidence_interval(confidence_level=0.95)"
   ]
  },
  {
   "cell_type": "code",
   "execution_count": 36,
   "id": "333fa041",
   "metadata": {},
   "outputs": [],
   "source": [
    "# 95% 신뢰구간의 의미 : \n",
    "# 실제 모집단 상관계수가 0.46~0.54 사이에 떨어질 확률이 95%라는 뜻"
   ]
  },
  {
   "cell_type": "markdown",
   "id": "c3ef7c8f",
   "metadata": {},
   "source": [
    "> **[해석]**  \n",
    "> 유의수준 0.05에서 p-value가 유의수준보다 작으므로 귀무가설을 기각할 수 있다.  \n",
    "> 따라서 아빠키와 아들키는 유의미한 양의 상관을 가진다고 할 수 있다.  "
   ]
  },
  {
   "cell_type": "markdown",
   "id": "92c68d93",
   "metadata": {},
   "source": [
    "<br>\n",
    "<hr>\n",
    "<br>\n",
    "\n",
    "## 3. 두 그룹 평균 차이 검정(t검정)"
   ]
  },
  {
   "cell_type": "raw",
   "id": "7dc00ae0",
   "metadata": {},
   "source": [
    "ch. 3-3"
   ]
  },
  {
   "cell_type": "markdown",
   "id": "03f87b36",
   "metadata": {},
   "source": [
    "+ 가설 설정\n",
    "    + $H_0: \\mu_X = \\mu_Y$    (두 그룹 $X$, $Y$의 평균이 같다.)\n",
    "    + $H_0: \\mu_X \\neq \\mu_Y$    (두 그룹 $X$, $Y$의 평균이 다르다.)\n",
    "\n",
    "+ 유의수준 설정: 0.05\n",
    "+ 정규성 검정(생략)\n",
    "+ 검정 방법 선택\n",
    "    + 독립표본 t검정 활용"
   ]
  },
  {
   "cell_type": "code",
   "execution_count": 37,
   "id": "7cee448e",
   "metadata": {},
   "outputs": [
    {
     "name": "stdout",
     "output_type": "stream",
     "text": [
      "(1078, 2)\n"
     ]
    },
    {
     "data": {
      "text/html": [
       "<div>\n",
       "<style scoped>\n",
       "    .dataframe tbody tr th:only-of-type {\n",
       "        vertical-align: middle;\n",
       "    }\n",
       "\n",
       "    .dataframe tbody tr th {\n",
       "        vertical-align: top;\n",
       "    }\n",
       "\n",
       "    .dataframe thead th {\n",
       "        text-align: right;\n",
       "    }\n",
       "</style>\n",
       "<table border=\"1\" class=\"dataframe\">\n",
       "  <thead>\n",
       "    <tr style=\"text-align: right;\">\n",
       "      <th></th>\n",
       "      <th>father</th>\n",
       "      <th>son</th>\n",
       "    </tr>\n",
       "  </thead>\n",
       "  <tbody>\n",
       "    <tr>\n",
       "      <th>0</th>\n",
       "      <td>165.223215</td>\n",
       "      <td>151.836806</td>\n",
       "    </tr>\n",
       "    <tr>\n",
       "      <th>1</th>\n",
       "      <td>160.657388</td>\n",
       "      <td>160.563662</td>\n",
       "    </tr>\n",
       "    <tr>\n",
       "      <th>2</th>\n",
       "      <td>164.986513</td>\n",
       "      <td>160.889747</td>\n",
       "    </tr>\n",
       "  </tbody>\n",
       "</table>\n",
       "</div>"
      ],
      "text/plain": [
       "       father         son\n",
       "0  165.223215  151.836806\n",
       "1  160.657388  160.563662\n",
       "2  164.986513  160.889747"
      ]
     },
     "execution_count": 37,
     "metadata": {},
     "output_type": "execute_result"
    }
   ],
   "source": [
    "print(df_heights.shape)\n",
    "df_heights.head(3)"
   ]
  },
  {
   "cell_type": "code",
   "execution_count": 38,
   "id": "b17d9e91",
   "metadata": {},
   "outputs": [
    {
     "data": {
      "text/plain": [
       "father    171.925226\n",
       "son       174.457537\n",
       "dtype: float64"
      ]
     },
     "execution_count": 38,
     "metadata": {},
     "output_type": "execute_result"
    }
   ],
   "source": [
    "# 세대별 키 평균 계산\n",
    "df_heights.mean()"
   ]
  },
  {
   "cell_type": "code",
   "execution_count": 39,
   "id": "67faf911",
   "metadata": {},
   "outputs": [
    {
     "data": {
      "text/html": [
       "<div>\n",
       "<style scoped>\n",
       "    .dataframe tbody tr th:only-of-type {\n",
       "        vertical-align: middle;\n",
       "    }\n",
       "\n",
       "    .dataframe tbody tr th {\n",
       "        vertical-align: top;\n",
       "    }\n",
       "\n",
       "    .dataframe thead th {\n",
       "        text-align: right;\n",
       "    }\n",
       "</style>\n",
       "<table border=\"1\" class=\"dataframe\">\n",
       "  <thead>\n",
       "    <tr style=\"text-align: right;\">\n",
       "      <th></th>\n",
       "      <th>father</th>\n",
       "      <th>son</th>\n",
       "    </tr>\n",
       "  </thead>\n",
       "  <tbody>\n",
       "    <tr>\n",
       "      <th>count</th>\n",
       "      <td>1078.000000</td>\n",
       "      <td>1078.000000</td>\n",
       "    </tr>\n",
       "    <tr>\n",
       "      <th>mean</th>\n",
       "      <td>171.925226</td>\n",
       "      <td>174.457537</td>\n",
       "    </tr>\n",
       "    <tr>\n",
       "      <th>std</th>\n",
       "      <td>6.971966</td>\n",
       "      <td>7.149342</td>\n",
       "    </tr>\n",
       "    <tr>\n",
       "      <th>min</th>\n",
       "      <td>149.880320</td>\n",
       "      <td>148.607983</td>\n",
       "    </tr>\n",
       "    <tr>\n",
       "      <th>25%</th>\n",
       "      <td>167.100847</td>\n",
       "      <td>170.005331</td>\n",
       "    </tr>\n",
       "    <tr>\n",
       "      <th>50%</th>\n",
       "      <td>172.127164</td>\n",
       "      <td>174.284183</td>\n",
       "    </tr>\n",
       "    <tr>\n",
       "      <th>75%</th>\n",
       "      <td>176.791569</td>\n",
       "      <td>178.983564</td>\n",
       "    </tr>\n",
       "    <tr>\n",
       "      <th>max</th>\n",
       "      <td>191.602182</td>\n",
       "      <td>199.046567</td>\n",
       "    </tr>\n",
       "  </tbody>\n",
       "</table>\n",
       "</div>"
      ],
      "text/plain": [
       "            father          son\n",
       "count  1078.000000  1078.000000\n",
       "mean    171.925226   174.457537\n",
       "std       6.971966     7.149342\n",
       "min     149.880320   148.607983\n",
       "25%     167.100847   170.005331\n",
       "50%     172.127164   174.284183\n",
       "75%     176.791569   178.983564\n",
       "max     191.602182   199.046567"
      ]
     },
     "execution_count": 39,
     "metadata": {},
     "output_type": "execute_result"
    }
   ],
   "source": [
    "# 기초통계량은 describe 함수로도 구할 수 있다.\n",
    "df_heights.describe()"
   ]
  },
  {
   "cell_type": "code",
   "execution_count": 40,
   "id": "c8689667",
   "metadata": {},
   "outputs": [
    {
     "data": {
      "text/plain": [
       "Ttest_indResult(statistic=-8.325919805445935, pvalue=1.467507588054212e-16)"
      ]
     },
     "execution_count": 40,
     "metadata": {},
     "output_type": "execute_result"
    }
   ],
   "source": [
    "# 정규성 검정을 통과했다고 가정\n",
    "stats.ttest_ind(df_heights['father'], df_heights['son'])"
   ]
  },
  {
   "cell_type": "code",
   "execution_count": 41,
   "id": "597307e5",
   "metadata": {},
   "outputs": [],
   "source": [
    "# 아빠들의 키와 아들들의 키의 차이에 대한 검정(T-test) 결과\n",
    "# => \"아빠키와 아들키에는 유의미한 차이가 있다고 할 수 있다.\""
   ]
  },
  {
   "cell_type": "markdown",
   "id": "f2f99aee",
   "metadata": {},
   "source": [
    "#### [참고] 정규성 검정과 비모수 검정"
   ]
  },
  {
   "cell_type": "code",
   "execution_count": 42,
   "id": "dc1fad34",
   "metadata": {},
   "outputs": [
    {
     "data": {
      "text/plain": [
       "ShapiroResult(statistic=0.9964215755462646, pvalue=0.014193939976394176)"
      ]
     },
     "execution_count": 42,
     "metadata": {},
     "output_type": "execute_result"
    }
   ],
   "source": [
    "# 각 변수의 정규성 검정\n",
    "stats.shapiro(df_heights['son'])\n",
    "# stats.shapiro(df_heights['father'])\n",
    "    ## 아들 키는 정규성 가정을 충족하지 못함\n",
    "    ## --> 분포 가정이 없는 Kruskal-Wallis 순위합 검정 수행"
   ]
  },
  {
   "cell_type": "code",
   "execution_count": 43,
   "id": "5a727d3e",
   "metadata": {},
   "outputs": [
    {
     "data": {
      "text/plain": [
       "KruskalResult(statistic=64.2712657832806, pvalue=1.0841541123431389e-15)"
      ]
     },
     "execution_count": 43,
     "metadata": {},
     "output_type": "execute_result"
    }
   ],
   "source": [
    "# 비모수 검정\n",
    "stats.kruskal(df_heights['father'], df_heights['son'])\n",
    "    ## \"아빠키와 아들키에는 유의미한 차이가 있다고 할 수 있다.\"\n",
    "    ## Kruskal-Wallis 검정은 세 그룹 이상의 평균 비교(ANOVA)에서도 활용"
   ]
  },
  {
   "cell_type": "markdown",
   "id": "e3c40c54",
   "metadata": {},
   "source": [
    "<br>\n",
    "\n",
    "#### [실습] 두 그룹의 평균 비교 및 검정\n",
    " \n",
    "1. 아래의 명령어를 실행하고 '남자수학점수'와 '여자수학점수' 데이터를 생성\n",
    "2. *np.mean()* 을 활용하여 성별 평균 수학점수를 각각 계산\n",
    "3. *stats.ttest_ind()* 를 활용하여 두 그룹 평균 차이의 유의성에 대한 검정 수행"
   ]
  },
  {
   "cell_type": "code",
   "execution_count": 44,
   "id": "a5d0c8de",
   "metadata": {},
   "outputs": [
    {
     "name": "stdout",
     "output_type": "stream",
     "text": [
      "[47 76 40 64 58 40 78 88 46 66]\n",
      "[72 69 90 71 88 38 65 50 69 18]\n"
     ]
    }
   ],
   "source": [
    "# 1. 아래의 명령어를 실행하고 '남자수학점수'와 '여자수학점수' 데이터를 생성\n",
    "math_male = np.array(df_sp[df_sp['gender']=='male']['math score'])\n",
    "math_female = np.array(df_sp[df_sp['gender']!='male']['math score'])\n",
    "\n",
    "print(math_male[:10])\n",
    "print(math_female[:10])"
   ]
  },
  {
   "cell_type": "code",
   "execution_count": 45,
   "id": "3ea5a4d4",
   "metadata": {},
   "outputs": [],
   "source": [
    "# 2. np.mean() 을 활용하여 성별 평균 수학점수를 각각 계산\n"
   ]
  },
  {
   "cell_type": "code",
   "execution_count": 46,
   "id": "4913b4cb",
   "metadata": {},
   "outputs": [],
   "source": [
    "# 3. stats.ttest_ind() 를 활용하여 두 그룹 평균 차이의 유의성에 대한 검정 수행\n"
   ]
  },
  {
   "cell_type": "code",
   "execution_count": null,
   "id": "e377c8af",
   "metadata": {},
   "outputs": [],
   "source": []
  },
  {
   "cell_type": "markdown",
   "id": "58ed44c5",
   "metadata": {},
   "source": [
    "###  [참고] 대응 표본 t-검정\n",
    "\n",
    "사전테스트점수-사후테스트점수 등 각 관측치의 두 변수값 차이에 대한 검정 \n",
    "> \"가족간 아빠, 아들 간에 유의미한 키 차이가 있는가?\""
   ]
  },
  {
   "cell_type": "code",
   "execution_count": 47,
   "id": "9d1278c2",
   "metadata": {
    "scrolled": true
   },
   "outputs": [
    {
     "data": {
      "text/plain": [
       "Ttest_relResult(statistic=-11.78854903823701, pvalue=2.9572263692282554e-30)"
      ]
     },
     "execution_count": 47,
     "metadata": {},
     "output_type": "execute_result"
    }
   ],
   "source": [
    "stats.ttest_rel(df_heights['father'], df_heights['son'])"
   ]
  },
  {
   "cell_type": "code",
   "execution_count": 48,
   "id": "71e9f04d",
   "metadata": {},
   "outputs": [],
   "source": [
    "# => 해석 : p-value가 0.05 이하이므로 유의미한 차이가 있다고 말할 수 있다."
   ]
  },
  {
   "cell_type": "markdown",
   "id": "dee5b409",
   "metadata": {},
   "source": [
    "<br>\n",
    "<hr>\n",
    "<br>\n",
    "\n",
    "## 4.  세 그룹 이상 평균 차이 분석(분산분석)"
   ]
  },
  {
   "cell_type": "raw",
   "id": "82007a63",
   "metadata": {},
   "source": [
    "ch. 3-4"
   ]
  },
  {
   "cell_type": "markdown",
   "id": "e24b890c",
   "metadata": {},
   "source": [
    "수치형 변수와 범주형 변수의 관계를 파악하기 위해서 그룹별 평균을 계산하고 그룹별 상자그림을 그려서 분포를 비교  \n",
    "그룹 간 평균이 유의미하게 다른지 확인하기 위해서 분산분석(ANOVA)를 활용\n",
    "\n",
    "+ 가설 설정\n",
    "    + $H_0: \\mu_1 = \\mu_2 = ... = \\mu_k$  (모든 그룹의 평균이 동일하다.)\n",
    "    + $H_1: Not\\,H_0$    (적어도 두 그룹의 평균이 다르다,)\n",
    "\n",
    "+ 유의수준 설정: 0.05\n",
    "+ 각 그룹별 정규성 검정(생략)\n",
    "+ 등분산 검정\n",
    "    + $H_0:$ 각 그룹의 분산이 모두 동일하다.  \n",
    "    + $H_1: Not\\,H_0 $  \n",
    "\n",
    "+ 검정 방법 선택\n",
    "    + F검정"
   ]
  },
  {
   "cell_type": "code",
   "execution_count": 49,
   "id": "2b0005c6",
   "metadata": {},
   "outputs": [],
   "source": [
    "import pandas as pd\n",
    "import numpy as np\n",
    "import seaborn as sns\n",
    "from scipy import stats # 검정에 활용\n",
    "\n",
    "# 보험 데이터 불러오기\n",
    "df_ins = pd.read_csv('data/insurance.csv')"
   ]
  },
  {
   "cell_type": "code",
   "execution_count": 50,
   "id": "ccc2484f",
   "metadata": {
    "scrolled": true
   },
   "outputs": [
    {
     "data": {
      "text/plain": [
       "13270.422265141257"
      ]
     },
     "execution_count": 50,
     "metadata": {},
     "output_type": "execute_result"
    }
   ],
   "source": [
    "# 전체 평균\n",
    "df_ins['charges'].mean()"
   ]
  },
  {
   "cell_type": "code",
   "execution_count": 51,
   "id": "0226f5fb",
   "metadata": {},
   "outputs": [
    {
     "data": {
      "text/plain": [
       "region\n",
       "northeast    13406.384516\n",
       "northwest    12417.575374\n",
       "southeast    14735.411438\n",
       "southwest    12346.937377\n",
       "Name: charges, dtype: float64"
      ]
     },
     "execution_count": 51,
     "metadata": {},
     "output_type": "execute_result"
    }
   ],
   "source": [
    "# 그룹별 평균 계산\n",
    "df_ins.groupby('region')['charges'].mean()"
   ]
  },
  {
   "cell_type": "code",
   "execution_count": 52,
   "id": "f722a499",
   "metadata": {},
   "outputs": [
    {
     "data": {
      "image/png": "[encoded data removed]",
      "text/plain": [
       "<Figure size 640x480 with 1 Axes>"
      ]
     },
     "metadata": {},
     "output_type": "display_data"
    }
   ],
   "source": [
    "# 그룹별 상자그림\n",
    "sns.boxplot(data=df_ins, x='region', y='charges')\n",
    "plt.show();"
   ]
  },
  {
   "cell_type": "markdown",
   "id": "e732bc23",
   "metadata": {},
   "source": [
    "<br>\n",
    "\n",
    "### 4-1. scipy를 활용한 분산분석\n",
    "\n",
    "scipy를 활용한 분산분석에서는 데이터를 그룹별로 분할한 다음, `f_oneway()`를 활용"
   ]
  },
  {
   "cell_type": "markdown",
   "id": "bee99250",
   "metadata": {},
   "source": [
    "### 문제 : 네 지역의 charges는 평균이 차이가 날까? => 세그룹 이상의 평균차이 분석 => anova(분산 분석)"
   ]
  },
  {
   "cell_type": "code",
   "execution_count": 53,
   "id": "fa65e16d",
   "metadata": {},
   "outputs": [],
   "source": [
    "# 지역별 데이터 분할\n",
    "g1 = df_ins[df_ins['region']=='northeast']['charges']\n",
    "g2 = df_ins[df_ins['region']=='northwest']['charges']\n",
    "g3 = df_ins[df_ins['region']=='southeast']['charges']\n",
    "g4 = df_ins[df_ins['region']=='southwest']['charges']"
   ]
  },
  {
   "cell_type": "code",
   "execution_count": 54,
   "id": "218eaf64",
   "metadata": {
    "scrolled": true
   },
   "outputs": [
    {
     "data": {
      "text/plain": [
       "(ShapiroResult(statistic=0.8353428840637207, pvalue=6.552730011610829e-18),\n",
       " ShapiroResult(statistic=0.8128032684326172, pvalue=4.268387928586811e-19),\n",
       " ShapiroResult(statistic=0.8242298364639282, pvalue=1.23268419436607e-19),\n",
       " ShapiroResult(statistic=0.7842952609062195, pvalue=2.023667803366432e-20))"
      ]
     },
     "execution_count": 54,
     "metadata": {},
     "output_type": "execute_result"
    }
   ],
   "source": [
    "# 정규성 검정\n",
    "stats.shapiro(g1), stats.shapiro(g2), stats.shapiro(g3), stats.shapiro(g4)\n",
    "  ## p-value < 0.05\n",
    "  ## \"charges는 정규분포를 따르지 않는다고 할 수 있다.\" \n",
    "  ## \"정규분포를 따르지 않는다고 할 수 있다\" -> 비모수 검정\n",
    "  ## 정규성 가정하고 아래의 등분산 검정 수행"
   ]
  },
  {
   "cell_type": "code",
   "execution_count": 55,
   "id": "206e31a5",
   "metadata": {},
   "outputs": [
    {
     "data": {
      "text/plain": [
       "BartlettResult(statistic=25.882548015902767, pvalue=1.0092988086670753e-05)"
      ]
     },
     "execution_count": 55,
     "metadata": {},
     "output_type": "execute_result"
    }
   ],
   "source": [
    "# 등분산 검정\n",
    "stats.bartlett(g1, g2, g3, g4)\n",
    "    ## p-value < 0.05\n",
    "    ## \"분산이 다르다고 할 수 있다.\" -> Welch ANOVA 활용\n",
    "    ## 등분산을 가정하고 아래의 ANOVA 수행"
   ]
  },
  {
   "cell_type": "code",
   "execution_count": 56,
   "id": "2c7a63f4",
   "metadata": {},
   "outputs": [
    {
     "data": {
      "text/plain": [
       "F_onewayResult(statistic=2.96962669358912, pvalue=0.0308933560705201)"
      ]
     },
     "execution_count": 56,
     "metadata": {},
     "output_type": "execute_result"
    }
   ],
   "source": [
    "# 분산분석(f_oneway 함수) 실행\n",
    "stats.f_oneway(g1, g2, g3, g4)"
   ]
  },
  {
   "cell_type": "markdown",
   "id": "3d7dc141",
   "metadata": {},
   "source": [
    "> **[해석]**  \n",
    "> (정규성과 등분산을 가정한 상태에서)  \n",
    "> p < 0.05 \\\n",
    "> 네 지역의 charges의 평균에는 유의미한 차이가 있다고 할 수 있다."
   ]
  },
  {
   "cell_type": "markdown",
   "id": "69ffff6c",
   "metadata": {},
   "source": [
    "<br>\n",
    "\n",
    "### 4-2. statsmodels를 활용한 분산분석\n",
    "\n",
    "매번 데이터를 분할하는 것은 쉽지 않기 때문에 **statsmodels** 라이브러리 활용 추천"
   ]
  },
  {
   "cell_type": "code",
   "execution_count": 57,
   "id": "8711f6f0",
   "metadata": {},
   "outputs": [],
   "source": [
    "from statsmodels.formula.api import ols\n",
    "from statsmodels.stats.anova import anova_lm"
   ]
  },
  {
   "cell_type": "code",
   "execution_count": 58,
   "id": "75f94d9f",
   "metadata": {},
   "outputs": [
    {
     "data": {
      "text/html": [
       "<div>\n",
       "<style scoped>\n",
       "    .dataframe tbody tr th:only-of-type {\n",
       "        vertical-align: middle;\n",
       "    }\n",
       "\n",
       "    .dataframe tbody tr th {\n",
       "        vertical-align: top;\n",
       "    }\n",
       "\n",
       "    .dataframe thead th {\n",
       "        text-align: right;\n",
       "    }\n",
       "</style>\n",
       "<table border=\"1\" class=\"dataframe\">\n",
       "  <thead>\n",
       "    <tr style=\"text-align: right;\">\n",
       "      <th></th>\n",
       "      <th>df</th>\n",
       "      <th>sum_sq</th>\n",
       "      <th>mean_sq</th>\n",
       "      <th>F</th>\n",
       "      <th>PR(&gt;F)</th>\n",
       "    </tr>\n",
       "  </thead>\n",
       "  <tbody>\n",
       "    <tr>\n",
       "      <th>C(region)</th>\n",
       "      <td>3.0</td>\n",
       "      <td>1.300760e+09</td>\n",
       "      <td>4.335866e+08</td>\n",
       "      <td>2.969627</td>\n",
       "      <td>0.030893</td>\n",
       "    </tr>\n",
       "    <tr>\n",
       "      <th>Residual</th>\n",
       "      <td>1334.0</td>\n",
       "      <td>1.947735e+11</td>\n",
       "      <td>1.460071e+08</td>\n",
       "      <td>NaN</td>\n",
       "      <td>NaN</td>\n",
       "    </tr>\n",
       "  </tbody>\n",
       "</table>\n",
       "</div>"
      ],
      "text/plain": [
       "               df        sum_sq       mean_sq         F    PR(>F)\n",
       "C(region)     3.0  1.300760e+09  4.335866e+08  2.969627  0.030893\n",
       "Residual   1334.0  1.947735e+11  1.460071e+08       NaN       NaN"
      ]
     },
     "execution_count": 58,
     "metadata": {},
     "output_type": "execute_result"
    }
   ],
   "source": [
    "from statsmodels.formula.api import ols\n",
    "from statsmodels.stats.anova import anova_lm\n",
    "\n",
    "# C : Categorical(범주형) 변수 의미\n",
    "model = ols(\"charges ~ C(region)\", df_ins).fit()\n",
    "anova_lm(model)"
   ]
  },
  {
   "cell_type": "code",
   "execution_count": 59,
   "id": "564e5894",
   "metadata": {},
   "outputs": [],
   "source": [
    "# 해석 : F값에 따른 p-value가 0.03 < 0.05 이므로, \n",
    "# 지역 별 평균 차이는 유의미하다."
   ]
  },
  {
   "cell_type": "markdown",
   "id": "98a77459",
   "metadata": {},
   "source": [
    "### (교재) F값 계산(분산분석) 예제 - 팀 당 5명씩인 3팀 간 평균 비교"
   ]
  },
  {
   "cell_type": "raw",
   "id": "84eea7a5",
   "metadata": {},
   "source": [
    "세 팀(k=3) 총 15명(n=15) 직원의 점수들로 anova(세 그룹 평균차이 분석) 수행(귀무가설 : 그룹 간 평균 차이가 없다) \n",
    "=> F값이 1.08이 나옴.\n",
    "주어진 정보들을 활용하고 scipy.stats.f 모듈을 사용하면 p-값 계산 가능."
   ]
  },
  {
   "cell_type": "code",
   "execution_count": 60,
   "id": "fe9f6949",
   "metadata": {
    "scrolled": false
   },
   "outputs": [
    {
     "name": "stdout",
     "output_type": "stream",
     "text": [
      "p-value: 0.3704315391783546\n"
     ]
    }
   ],
   "source": [
    "from scipy.stats import f\n",
    "\n",
    "f_value = 1.08  # F값\n",
    "dft = 2         # 그룹 간 자유도(k-1), # k는 그룹 수\n",
    "dfe = 12        # 그룹 내 자유도(n-k)  # n은 관측치 수\n",
    "\n",
    "p_value = f.sf(f_value, dft, dfe)\n",
    "print(\"p-value:\", p_value)"
   ]
  },
  {
   "cell_type": "code",
   "execution_count": 61,
   "id": "6cb0bd05",
   "metadata": {},
   "outputs": [],
   "source": [
    "# 해석 : p-value > 0.05 이므로 귀무가설 채택(그룹 간 평균 차이가 유의미하지 않다)"
   ]
  },
  {
   "cell_type": "markdown",
   "id": "7b82b3ce",
   "metadata": {},
   "source": [
    "<br>\n",
    "<br>\n",
    "<br>\n",
    "\n",
    "#### [실습] \n",
    "1. 데이터 df_sp 에서 `gender`별 `math_score`의 평균을 계산하고 상자그림 그리기\n",
    "2. 1의 두 변수를 활용해서 **statsmodels** 라이브러리로 분산분석 수행하기\n",
    "3. 데이터 df_sp에서 `parental level of education`별 `reading_score`의 평균 계산하기\n",
    "4. 3의 두 변수를 활용해서 **statsmodels**로 분산분석 수행하기\n"
   ]
  },
  {
   "cell_type": "code",
   "execution_count": 62,
   "id": "e33866e0",
   "metadata": {},
   "outputs": [],
   "source": [
    "# C : Categorical(범주형) 변수 의미, \n",
    "# Q : 분산분석 시 ols에서 띄어쓰기가 있는 변수를 묶어주는 방법"
   ]
  },
  {
   "cell_type": "code",
   "execution_count": null,
   "id": "fe976d2e",
   "metadata": {},
   "outputs": [],
   "source": []
  },
  {
   "cell_type": "code",
   "execution_count": null,
   "id": "329cea64",
   "metadata": {},
   "outputs": [],
   "source": []
  },
  {
   "cell_type": "code",
   "execution_count": null,
   "id": "b43a2918",
   "metadata": {},
   "outputs": [],
   "source": []
  },
  {
   "cell_type": "code",
   "execution_count": null,
   "id": "55f13ec8",
   "metadata": {},
   "outputs": [],
   "source": []
  },
  {
   "cell_type": "markdown",
   "id": "aa5b6410",
   "metadata": {},
   "source": [
    "<br>\n",
    "<br>\n",
    "<br>\n",
    "\n",
    "## 5. 범주형 변수의 교차표와 독립성 검정(카이제곱검정)"
   ]
  },
  {
   "cell_type": "raw",
   "id": "c0574345",
   "metadata": {},
   "source": [
    "ch. 3-5"
   ]
  },
  {
   "cell_type": "markdown",
   "id": "0d7ed63e",
   "metadata": {},
   "source": [
    "범주형 변수의 교차표를 활용해 두 변수의 관계가 통계적으로 유의미한지 판단 가능"
   ]
  },
  {
   "cell_type": "code",
   "execution_count": 63,
   "id": "0b557845",
   "metadata": {},
   "outputs": [],
   "source": [
    "import numpy as np\n",
    "import pandas as pd\n",
    "\n",
    "# 그래프 라이브러리\n",
    "import seaborn as sns\n",
    "import matplotlib.pyplot as plt\n",
    "\n",
    "# 과학 라이브러리\n",
    "from scipy import stats # 검정에 활용"
   ]
  },
  {
   "cell_type": "code",
   "execution_count": 64,
   "id": "b28b582b",
   "metadata": {},
   "outputs": [],
   "source": [
    "# 보험 데이터 불러오기\n",
    "df_ins = pd.read_csv('data/insurance.csv')"
   ]
  },
  {
   "cell_type": "code",
   "execution_count": 65,
   "id": "f33280e9",
   "metadata": {},
   "outputs": [
    {
     "data": {
      "text/html": [
       "<div>\n",
       "<style scoped>\n",
       "    .dataframe tbody tr th:only-of-type {\n",
       "        vertical-align: middle;\n",
       "    }\n",
       "\n",
       "    .dataframe tbody tr th {\n",
       "        vertical-align: top;\n",
       "    }\n",
       "\n",
       "    .dataframe thead th {\n",
       "        text-align: right;\n",
       "    }\n",
       "</style>\n",
       "<table border=\"1\" class=\"dataframe\">\n",
       "  <thead>\n",
       "    <tr style=\"text-align: right;\">\n",
       "      <th>smoker</th>\n",
       "      <th>no</th>\n",
       "      <th>yes</th>\n",
       "    </tr>\n",
       "    <tr>\n",
       "      <th>sex</th>\n",
       "      <th></th>\n",
       "      <th></th>\n",
       "    </tr>\n",
       "  </thead>\n",
       "  <tbody>\n",
       "    <tr>\n",
       "      <th>female</th>\n",
       "      <td>547</td>\n",
       "      <td>115</td>\n",
       "    </tr>\n",
       "    <tr>\n",
       "      <th>male</th>\n",
       "      <td>517</td>\n",
       "      <td>159</td>\n",
       "    </tr>\n",
       "  </tbody>\n",
       "</table>\n",
       "</div>"
      ],
      "text/plain": [
       "smoker   no  yes\n",
       "sex             \n",
       "female  547  115\n",
       "male    517  159"
      ]
     },
     "execution_count": 65,
     "metadata": {},
     "output_type": "execute_result"
    }
   ],
   "source": [
    "# 교차표\n",
    "agg = pd.crosstab(df_ins['sex'], df_ins['smoker'])\n",
    "agg"
   ]
  },
  {
   "cell_type": "code",
   "execution_count": 66,
   "id": "e54ddd8f",
   "metadata": {},
   "outputs": [
    {
     "data": {
      "image/png": "[encoded data removed]",
      "text/plain": [
       "<Figure size 640x480 with 2 Axes>"
      ]
     },
     "metadata": {},
     "output_type": "display_data"
    }
   ],
   "source": [
    "# 열지도(heatmap)\n",
    "sns.heatmap(agg, cmap='Blues', annot=True, fmt='d')\n",
    "plt.show();"
   ]
  },
  {
   "cell_type": "code",
   "execution_count": 67,
   "id": "0abb08b4",
   "metadata": {},
   "outputs": [
    {
     "data": {
      "text/html": [
       "<div>\n",
       "<style scoped>\n",
       "    .dataframe tbody tr th:only-of-type {\n",
       "        vertical-align: middle;\n",
       "    }\n",
       "\n",
       "    .dataframe tbody tr th {\n",
       "        vertical-align: top;\n",
       "    }\n",
       "\n",
       "    .dataframe thead th {\n",
       "        text-align: right;\n",
       "    }\n",
       "</style>\n",
       "<table border=\"1\" class=\"dataframe\">\n",
       "  <thead>\n",
       "    <tr style=\"text-align: right;\">\n",
       "      <th>smoker</th>\n",
       "      <th>no</th>\n",
       "      <th>yes</th>\n",
       "    </tr>\n",
       "    <tr>\n",
       "      <th>sex</th>\n",
       "      <th></th>\n",
       "      <th></th>\n",
       "    </tr>\n",
       "  </thead>\n",
       "  <tbody>\n",
       "    <tr>\n",
       "      <th>female</th>\n",
       "      <td>0.826284</td>\n",
       "      <td>0.173716</td>\n",
       "    </tr>\n",
       "    <tr>\n",
       "      <th>male</th>\n",
       "      <td>0.764793</td>\n",
       "      <td>0.235207</td>\n",
       "    </tr>\n",
       "    <tr>\n",
       "      <th>All</th>\n",
       "      <td>0.795217</td>\n",
       "      <td>0.204783</td>\n",
       "    </tr>\n",
       "  </tbody>\n",
       "</table>\n",
       "</div>"
      ],
      "text/plain": [
       "smoker        no       yes\n",
       "sex                       \n",
       "female  0.826284  0.173716\n",
       "male    0.764793  0.235207\n",
       "All     0.795217  0.204783"
      ]
     },
     "execution_count": 67,
     "metadata": {},
     "output_type": "execute_result"
    }
   ],
   "source": [
    "# 행 백분율\n",
    "pd.crosstab(df_ins['sex'], df_ins['smoker'], normalize='index', margins=True)"
   ]
  },
  {
   "cell_type": "code",
   "execution_count": 68,
   "id": "ad0f320e",
   "metadata": {},
   "outputs": [
    {
     "data": {
      "text/html": [
       "<div>\n",
       "<style scoped>\n",
       "    .dataframe tbody tr th:only-of-type {\n",
       "        vertical-align: middle;\n",
       "    }\n",
       "\n",
       "    .dataframe tbody tr th {\n",
       "        vertical-align: top;\n",
       "    }\n",
       "\n",
       "    .dataframe thead th {\n",
       "        text-align: right;\n",
       "    }\n",
       "</style>\n",
       "<table border=\"1\" class=\"dataframe\">\n",
       "  <thead>\n",
       "    <tr style=\"text-align: right;\">\n",
       "      <th>smoker</th>\n",
       "      <th>no</th>\n",
       "      <th>yes</th>\n",
       "      <th>All</th>\n",
       "    </tr>\n",
       "    <tr>\n",
       "      <th>sex</th>\n",
       "      <th></th>\n",
       "      <th></th>\n",
       "      <th></th>\n",
       "    </tr>\n",
       "  </thead>\n",
       "  <tbody>\n",
       "    <tr>\n",
       "      <th>female</th>\n",
       "      <td>0.514098</td>\n",
       "      <td>0.419708</td>\n",
       "      <td>0.494768</td>\n",
       "    </tr>\n",
       "    <tr>\n",
       "      <th>male</th>\n",
       "      <td>0.485902</td>\n",
       "      <td>0.580292</td>\n",
       "      <td>0.505232</td>\n",
       "    </tr>\n",
       "  </tbody>\n",
       "</table>\n",
       "</div>"
      ],
      "text/plain": [
       "smoker        no       yes       All\n",
       "sex                                 \n",
       "female  0.514098  0.419708  0.494768\n",
       "male    0.485902  0.580292  0.505232"
      ]
     },
     "execution_count": 68,
     "metadata": {},
     "output_type": "execute_result"
    }
   ],
   "source": [
    "# 열 백분율\n",
    "pd.crosstab(df_ins['sex'], df_ins['smoker'], normalize='columns', margins=True)"
   ]
  },
  {
   "cell_type": "markdown",
   "id": "54663ece",
   "metadata": {},
   "source": [
    "<br>\n",
    "\n",
    "## 5.1. 카이제곱검정을 활용한 독립성 검정\n",
    "\n",
    "scipy의 stats 모듈에서 *chi2_contingency()* 를 활용해 교차표의 두 범주형 변수에 대한 독립성 검정 실행"
   ]
  },
  {
   "cell_type": "markdown",
   "id": "47ab8200",
   "metadata": {},
   "source": [
    "### 예시1) 성별에 따른 흡연여부에 차이가 있을까?"
   ]
  },
  {
   "cell_type": "code",
   "execution_count": 69,
   "id": "087e6f6c",
   "metadata": {},
   "outputs": [],
   "source": [
    "# 귀무 가설(H0) : 두 범주형 변수가 독립이다(상관 없다)\n",
    "# 대립 가설(H1) : 두 범주형 변수가 독립이 아니다(상관이 있다)"
   ]
  },
  {
   "cell_type": "code",
   "execution_count": 70,
   "id": "38bc7295",
   "metadata": {},
   "outputs": [
    {
     "data": {
      "text/html": [
       "<div>\n",
       "<style scoped>\n",
       "    .dataframe tbody tr th:only-of-type {\n",
       "        vertical-align: middle;\n",
       "    }\n",
       "\n",
       "    .dataframe tbody tr th {\n",
       "        vertical-align: top;\n",
       "    }\n",
       "\n",
       "    .dataframe thead th {\n",
       "        text-align: right;\n",
       "    }\n",
       "</style>\n",
       "<table border=\"1\" class=\"dataframe\">\n",
       "  <thead>\n",
       "    <tr style=\"text-align: right;\">\n",
       "      <th>smoker</th>\n",
       "      <th>no</th>\n",
       "      <th>yes</th>\n",
       "    </tr>\n",
       "    <tr>\n",
       "      <th>sex</th>\n",
       "      <th></th>\n",
       "      <th></th>\n",
       "    </tr>\n",
       "  </thead>\n",
       "  <tbody>\n",
       "    <tr>\n",
       "      <th>female</th>\n",
       "      <td>547</td>\n",
       "      <td>115</td>\n",
       "    </tr>\n",
       "    <tr>\n",
       "      <th>male</th>\n",
       "      <td>517</td>\n",
       "      <td>159</td>\n",
       "    </tr>\n",
       "  </tbody>\n",
       "</table>\n",
       "</div>"
      ],
      "text/plain": [
       "smoker   no  yes\n",
       "sex             \n",
       "female  547  115\n",
       "male    517  159"
      ]
     },
     "execution_count": 70,
     "metadata": {},
     "output_type": "execute_result"
    }
   ],
   "source": [
    "# 위에서 구한 성별, 흡연여부에 따른 교차표\n",
    "agg = pd.crosstab(df_ins['sex'], df_ins['smoker'])\n",
    "agg"
   ]
  },
  {
   "cell_type": "code",
   "execution_count": 71,
   "id": "525c4808",
   "metadata": {},
   "outputs": [
    {
     "name": "stdout",
     "output_type": "stream",
     "text": [
      "카이제곱 값: 7.39291081459996 \n",
      "\n",
      "p-value: 0.006548143503580696 \n",
      "\n",
      "자유도: 1 \n",
      "\n",
      "독립을 가정한 교차표:\n",
      " [[526.43348281 135.56651719]\n",
      " [537.56651719 138.43348281]]\n"
     ]
    }
   ],
   "source": [
    "# 독립성 검정\n",
    "chi2, p, dof, expected = stats.chi2_contingency(agg)\n",
    "\n",
    "# print results\n",
    "print('카이제곱 값:', chi2, '\\n')   # 카이제곱값\n",
    "print('p-value:', p, '\\n')       # p-value\n",
    "print('자유도:', dof, '\\n')        # 자유도 = (2-1)x(2-1)\n",
    "print('독립을 가정한 교차표:\\n', expected) "
   ]
  },
  {
   "cell_type": "code",
   "execution_count": 72,
   "id": "33bd85c9",
   "metadata": {},
   "outputs": [],
   "source": [
    "# 카이제곱검정의 자유도\n",
    "# (r행과 c열이 있는 교차표의 경우) 자유도 = (r-1)x(c-1)"
   ]
  },
  {
   "cell_type": "code",
   "execution_count": 73,
   "id": "d8c5b3b2",
   "metadata": {},
   "outputs": [
    {
     "data": {
      "text/plain": [
       "0.006548143503580696"
      ]
     },
     "execution_count": 73,
     "metadata": {},
     "output_type": "execute_result"
    }
   ],
   "source": [
    "# 결과값의 분할 저장\n",
    "# _ : 사용 안 할 변수를 저장하는 임시 변수\n",
    "chi2val, pvalue, _, _ = stats.chi2_contingency(agg)\n",
    "\n",
    "pvalue"
   ]
  },
  {
   "cell_type": "code",
   "execution_count": 74,
   "id": "930ea6a2",
   "metadata": {},
   "outputs": [],
   "source": [
    "# 해석 : p-value가 0.05보다 작으므로, 성별과 흡연여부에 대해 유의미한 상관이 있다."
   ]
  },
  {
   "cell_type": "markdown",
   "id": "77073647",
   "metadata": {},
   "source": [
    "### 예시2) 성별에 따른 커피, 차 선호도에 유의미한 차이가 있을까?"
   ]
  },
  {
   "cell_type": "code",
   "execution_count": 75,
   "id": "a831f5d4",
   "metadata": {},
   "outputs": [],
   "source": [
    "# 귀무가설(H0) : 성별 간 커피, 차 선호도에 유의미한 상관이 없다."
   ]
  },
  {
   "cell_type": "code",
   "execution_count": 76,
   "id": "23fa29fe",
   "metadata": {},
   "outputs": [
    {
     "data": {
      "text/plain": [
       "array([[30, 20],\n",
       "       [40, 10]])"
      ]
     },
     "execution_count": 76,
     "metadata": {},
     "output_type": "execute_result"
    }
   ],
   "source": [
    "import numpy as np\n",
    "from scipy import stats\n",
    "\n",
    "                  #커피 #차  \n",
    "drinks = np.array([[30, 20],  # 남성\n",
    "                   [40, 10]]) # 여성\n",
    "drinks"
   ]
  },
  {
   "cell_type": "code",
   "execution_count": 77,
   "id": "0357b33c",
   "metadata": {},
   "outputs": [],
   "source": [
    "# [[30, 20]   50\n",
    "#  [40, 10]]  50\n",
    "#   70  30    100\n",
    "\n",
    "# 독립을 가정한 교차표\n",
    "# [[35 15]  50   \n",
    "#   35 15]] 50   \n",
    "#   70 30   100  "
   ]
  },
  {
   "cell_type": "code",
   "execution_count": 78,
   "id": "07f0aeae",
   "metadata": {},
   "outputs": [
    {
     "name": "stdout",
     "output_type": "stream",
     "text": [
      "카이제곱 값: 3.8571428571428577 \n",
      "\n",
      "p-value: 0.04953461343562649 \n",
      "\n",
      "자유도: 1 \n",
      "\n",
      "독립을 가정한 교차표:\n",
      " [[35. 15.]\n",
      " [35. 15.]]\n"
     ]
    }
   ],
   "source": [
    "# 카이제곱검정 수행\n",
    "chi2, p, dof, expected = stats.chi2_contingency(drinks)\n",
    "\n",
    "# print results\n",
    "print('카이제곱 값:', chi2, '\\n')   # 카이제곱값\n",
    "print('p-value:', p, '\\n')       # p-value\n",
    "print('자유도:', dof, '\\n')        # 자유도 = (2-1)x(2-1)\n",
    "print('독립을 가정한 교차표:\\n', expected) "
   ]
  },
  {
   "cell_type": "code",
   "execution_count": 79,
   "id": "2186b356",
   "metadata": {},
   "outputs": [],
   "source": [
    "# 해석 : p-value < 0.05 이므로, 귀무가설을 기각한다.\n",
    "# 즉, 남성과 여성 사이에 커피/차 선호도에 유의미한 차이가 있다."
   ]
  },
  {
   "cell_type": "markdown",
   "id": "c9eee7ff",
   "metadata": {},
   "source": [
    "<br>\n",
    "<br>\n",
    "\n",
    "#### [실습] 두 범주형 변수의 독립성 검정 \n",
    "\n",
    "1. df_sp에서 'race/ethnicity'와 'parental level of education'의 교차표 만들기\n",
    "2. 1의 교차표에서 열지도 그리고 의미 파악하기\n",
    "3. 1의 교차표와 `chi2_contingency()`로 'race/ethnicity'와 'parental level of education'의 독립성 검정하기\n",
    "\n",
    "\n",
    "\n"
   ]
  },
  {
   "cell_type": "code",
   "execution_count": null,
   "id": "c8506dae",
   "metadata": {},
   "outputs": [],
   "source": []
  },
  {
   "cell_type": "code",
   "execution_count": null,
   "id": "0304e1a1",
   "metadata": {
    "scrolled": true
   },
   "outputs": [],
   "source": []
  },
  {
   "cell_type": "code",
   "execution_count": null,
   "id": "adf46f90",
   "metadata": {},
   "outputs": [],
   "source": []
  },
  {
   "cell_type": "code",
   "execution_count": null,
   "id": "e5f54148",
   "metadata": {},
   "outputs": [],
   "source": []
  },
  {
   "cell_type": "code",
   "execution_count": null,
   "id": "8db14a01",
   "metadata": {},
   "outputs": [],
   "source": []
  },
  {
   "cell_type": "markdown",
   "id": "0fa8d2ee",
   "metadata": {},
   "source": [
    "#### End of script"
   ]
  }
 ],
 "metadata": {
  "kernelspec": {
   "display_name": "Python 3",
   "language": "python",
   "name": "python3"
  },
  "language_info": {
   "codemirror_mode": {
    "name": "ipython",
    "version": 3
   },
   "file_extension": ".py",
   "mimetype": "text/x-python",
   "name": "python",
   "nbconvert_exporter": "python",
   "pygments_lexer": "ipython3",
   "version": "3.8.8"
  },
  "varInspector": {
   "cols": {
    "lenName": 16,
    "lenType": 16,
    "lenVar": 40
   },
   "kernels_config": {
    "python": {
     "delete_cmd_postfix": "",
     "delete_cmd_prefix": "del ",
     "library": "var_list.py",
     "varRefreshCmd": "print(var_dic_list())"
    },
    "r": {
     "delete_cmd_postfix": ") ",
     "delete_cmd_prefix": "rm(",
     "library": "var_list.r",
     "varRefreshCmd": "cat(var_dic_list()) "
    }
   },
   "types_to_exclude": [
    "module",
    "function",
    "builtin_function_or_method",
    "instance",
    "_Feature"
   ],
   "window_display": false
  }
 },
 "nbformat": 4,
 "nbformat_minor": 5
}
