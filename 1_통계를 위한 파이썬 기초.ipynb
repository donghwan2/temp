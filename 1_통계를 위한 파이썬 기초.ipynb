{
 "cells": [
  {
   "cell_type": "markdown",
   "id": "90617200",
   "metadata": {},
   "source": [
    "<목차>\n",
    "1. 쥬피터 노트북  \n",
    "- 1-1. 쥬피터 노트북 단축키\n",
    "- 1-2. 주석과 마크다운\n",
    "<br>\n",
    "\n",
    "2. 파이썬 기초  \n",
    "- 2-1. 숫자 : 정수(int) or 실수(float)  \n",
    "- 2-2. 문자열(str) : 텍스트  \n",
    "- 2-3. 리스트(list) : 파이썬의 데이터 바구니  \n",
    "- 2-4. 라이브러리의 함수 이용하기  \n",
    "- 2-5. 판다스(pandas) vs 넘파이(numpy)  "
   ]
  },
  {
   "cell_type": "markdown",
   "id": "b2939e9a",
   "metadata": {},
   "source": [
    "# 1. 쥬피터 노트북"
   ]
  },
  {
   "cell_type": "markdown",
   "id": "8a8ec62b",
   "metadata": {},
   "source": [
    "쥬피터 노트북은 파이썬을 라인 바이 라인으로 실행할 수 있어서, 파이썬을 활용한 데이터 분석 시 유용하게 사용하는 툴입니다. "
   ]
  },
  {
   "cell_type": "markdown",
   "id": "a61bd4f6",
   "metadata": {},
   "source": [
    "## 1-1. 쥬피터 노트북 단축키"
   ]
  },
  {
   "cell_type": "code",
   "execution_count": 1,
   "id": "574ca8d5",
   "metadata": {},
   "outputs": [],
   "source": [
    "# 파이썬 실행 단축키\n",
    "# shift + enter : 실행(다음 셀로 넘어가짐)\n",
    "# ctrl + enter : 실행(제자리 실행)"
   ]
  },
  {
   "cell_type": "code",
   "execution_count": 2,
   "id": "ff424270",
   "metadata": {},
   "outputs": [],
   "source": [
    "# 숫자의 덧셈\n"
   ]
  },
  {
   "cell_type": "code",
   "execution_count": 3,
   "id": "5c976efc",
   "metadata": {},
   "outputs": [],
   "source": [
    "# 문자도 덧셈이 됩니다.\n",
    " "
   ]
  },
  {
   "cell_type": "code",
   "execution_count": 4,
   "id": "e741c2f5",
   "metadata": {
    "scrolled": true
   },
   "outputs": [
    {
     "data": {
      "text/html": [
       "<img src=\"https://img1.daumcdn.net/thumb/R1280x0/?scode=mtistory2&fname=https%3A%2F%2Fblog.kakaocdn.net%2Fdn%2FbBkixw%2FbtsakdP1BUn%2FSxOblIemIMtKTenlwkr9R1%2Fimg.png\"/>"
      ],
      "text/plain": [
       "<IPython.core.display.Image object>"
      ]
     },
     "execution_count": 4,
     "metadata": {},
     "output_type": "execute_result"
    }
   ],
   "source": [
    "# 가장 많이 사용하는 쥬피터 노트북 단축키들(단축키 : H)\n",
    "from IPython.display import Image\n",
    "url = 'https://img1.daumcdn.net/thumb/R1280x0/?scode=mtistory2&fname=https%3A%2F%2Fblog.kakaocdn.net%2Fdn%2FbBkixw%2FbtsakdP1BUn%2FSxOblIemIMtKTenlwkr9R1%2Fimg.png'\n",
    "Image(url=url)"
   ]
  },
  {
   "cell_type": "markdown",
   "id": "abbea925",
   "metadata": {},
   "source": [
    "## 1-2. 주석과 마크다운"
   ]
  },
  {
   "cell_type": "code",
   "execution_count": 5,
   "id": "2becbd5e",
   "metadata": {},
   "outputs": [],
   "source": [
    "# \"#\"을 붙여서 주석(comment)을 달 수 있습니다.\n",
    "# 주석 => 코드로 인식하지 않습니다."
   ]
  },
  {
   "cell_type": "code",
   "execution_count": 6,
   "id": "2cc58586",
   "metadata": {
    "scrolled": true
   },
   "outputs": [],
   "source": [
    "# print 함수\n"
   ]
  },
  {
   "cell_type": "code",
   "execution_count": 7,
   "id": "36422ac7",
   "metadata": {},
   "outputs": [],
   "source": [
    "# 마크다운 단축키 : M\n",
    "# 마크다운을 활용하면 문서 중간에 제목을 달 수 있습니다."
   ]
  },
  {
   "cell_type": "markdown",
   "id": "ec6fd33d",
   "metadata": {},
   "source": [
    "# 2. 파이썬 기초"
   ]
  },
  {
   "cell_type": "markdown",
   "id": "c3402208",
   "metadata": {},
   "source": [
    "## 2-1. 숫자 : 정수(int) or 실수(float)"
   ]
  },
  {
   "cell_type": "code",
   "execution_count": null,
   "id": "bde47620",
   "metadata": {},
   "outputs": [],
   "source": []
  },
  {
   "cell_type": "code",
   "execution_count": null,
   "id": "18003392",
   "metadata": {
    "scrolled": true
   },
   "outputs": [],
   "source": []
  },
  {
   "cell_type": "code",
   "execution_count": null,
   "id": "9a4c8aed",
   "metadata": {
    "scrolled": true
   },
   "outputs": [],
   "source": []
  },
  {
   "cell_type": "code",
   "execution_count": null,
   "id": "6d34ec23",
   "metadata": {},
   "outputs": [],
   "source": []
  },
  {
   "cell_type": "code",
   "execution_count": 8,
   "id": "8a24ebdc",
   "metadata": {
    "scrolled": true
   },
   "outputs": [],
   "source": [
    "# 숫자의 연산\n"
   ]
  },
  {
   "cell_type": "markdown",
   "id": "eb2b6b51",
   "metadata": {},
   "source": [
    "`print( )` : 출력  \n",
    "`=` : 변수에 값 저장(할당)"
   ]
  },
  {
   "cell_type": "code",
   "execution_count": 9,
   "id": "be13d1ac",
   "metadata": {},
   "outputs": [],
   "source": [
    "# 변수 a에 숫자 3 저장하고 print 함수로 출력해보기\n"
   ]
  },
  {
   "cell_type": "markdown",
   "id": "e64cff94",
   "metadata": {},
   "source": [
    "## 2-2. 문자열(str) : 텍스트"
   ]
  },
  {
   "cell_type": "code",
   "execution_count": 10,
   "id": "b908695b",
   "metadata": {},
   "outputs": [],
   "source": [
    "# 문자열 : 따옴표로 감싸면 문자열(쌍따옴표, 홑따옴표 차이 없음)\n"
   ]
  },
  {
   "cell_type": "code",
   "execution_count": null,
   "id": "17f1bf91",
   "metadata": {
    "scrolled": true
   },
   "outputs": [],
   "source": []
  },
  {
   "cell_type": "code",
   "execution_count": 11,
   "id": "dde0ab05",
   "metadata": {
    "scrolled": true
   },
   "outputs": [],
   "source": [
    "# 변수 vs 문자열(따옴표가 있다!)\n"
   ]
  },
  {
   "cell_type": "markdown",
   "id": "b083933a",
   "metadata": {},
   "source": [
    "## 2-3. 리스트(list) : 파이썬의 데이터 바구니"
   ]
  },
  {
   "cell_type": "markdown",
   "id": "c7b4367f",
   "metadata": {},
   "source": [
    "여러개의 값을 묶으면 데이터를 관리하기 좋음.  \n",
    "파이썬에서는 리스트(list : [ ]), 딕셔너리(dictionary : { }), 튜플(tuple : ( ) ) 형식 등으로 숫자, 문자열을 다룸"
   ]
  },
  {
   "cell_type": "code",
   "execution_count": 12,
   "id": "e1268bcf",
   "metadata": {},
   "outputs": [],
   "source": [
    "# 숫자 리스트\n"
   ]
  },
  {
   "cell_type": "code",
   "execution_count": 13,
   "id": "26975dfd",
   "metadata": {
    "scrolled": false
   },
   "outputs": [
    {
     "data": {
      "text/plain": [
       "['회로설계', '반도체공정설계', '신호 및 시스템 설계', 'S/W개발', '영업마케팅', '경영지원', '생산관리']"
      ]
     },
     "execution_count": 13,
     "metadata": {},
     "output_type": "execute_result"
    }
   ],
   "source": [
    "# 문자열 리스트\n",
    "division = ['회로설계', '반도체공정설계', '신호 및 시스템 설계', 'S/W개발', '영업마케팅', '경영지원', '생산관리']\n",
    "division"
   ]
  },
  {
   "cell_type": "code",
   "execution_count": 14,
   "id": "d5e2482e",
   "metadata": {},
   "outputs": [],
   "source": [
    "# 리스트의 길이 확인\n"
   ]
  },
  {
   "cell_type": "markdown",
   "id": "4aa26eea",
   "metadata": {},
   "source": [
    "#### [실습] 리스트 만들기\n",
    "1. 1~10까지 숫자 중에서 마음대로 3개 숫자 선택해서 리스트로 만들어 저장하기\n",
    "2. 점심/저녁 메뉴 3개를 리스트로 묶어 menu로 저장하기 \n",
    "\n"
   ]
  },
  {
   "cell_type": "code",
   "execution_count": null,
   "id": "45336cd4",
   "metadata": {},
   "outputs": [],
   "source": []
  },
  {
   "cell_type": "code",
   "execution_count": null,
   "id": "9066abde",
   "metadata": {},
   "outputs": [],
   "source": []
  },
  {
   "cell_type": "markdown",
   "id": "0d0623e0",
   "metadata": {},
   "source": [
    "### 리스트의 append, pop 함수"
   ]
  },
  {
   "cell_type": "code",
   "execution_count": 15,
   "id": "2240e11a",
   "metadata": {},
   "outputs": [],
   "source": [
    "# append() : 리스트에 값 추가하기\n"
   ]
  },
  {
   "cell_type": "code",
   "execution_count": 16,
   "id": "9199874a",
   "metadata": {},
   "outputs": [],
   "source": [
    "# pop() : 원하는 위치의 값을 삭제하는 함수\n"
   ]
  },
  {
   "cell_type": "markdown",
   "id": "2fd656c1",
   "metadata": {},
   "source": [
    "### [실습] append 함수\n",
    "관심있는 메뉴 3개를 묶은 menu에 append( )로 메뉴 \"파스타\" 하나 더 추가하기\n",
    "\n"
   ]
  },
  {
   "cell_type": "code",
   "execution_count": null,
   "id": "c1e51ee0",
   "metadata": {},
   "outputs": [],
   "source": []
  },
  {
   "cell_type": "markdown",
   "id": "7f9ad135",
   "metadata": {},
   "source": [
    "### 인덱싱(indexing) : 위치나 이름으로 값 선택"
   ]
  },
  {
   "cell_type": "code",
   "execution_count": 17,
   "id": "7b2a108e",
   "metadata": {},
   "outputs": [],
   "source": [
    "# 위치값으로 리스트에서 값 찾기\n"
   ]
  },
  {
   "cell_type": "code",
   "execution_count": 18,
   "id": "d2062120",
   "metadata": {},
   "outputs": [],
   "source": [
    "## 콜론(:) -> 범위 지정(slicing)해서 데이터 찾기\n"
   ]
  },
  {
   "cell_type": "code",
   "execution_count": 19,
   "id": "822dadef",
   "metadata": {},
   "outputs": [],
   "source": [
    "# salary[:2] # 처음부터 2번째 미만까지\n",
    "# salary[2:] # 2번째부터 끝까지"
   ]
  },
  {
   "cell_type": "code",
   "execution_count": 20,
   "id": "312abd5e",
   "metadata": {},
   "outputs": [],
   "source": [
    "# 특정 위치의 값 변경\n"
   ]
  },
  {
   "cell_type": "markdown",
   "id": "1593bd41",
   "metadata": {},
   "source": [
    "#### [실습] 인덱싱\n",
    "1. menu에서 첫번째 메뉴만 선택하기\n",
    "2. menu에서 세번째 메뉴를 '우동'으로 변경하기"
   ]
  },
  {
   "cell_type": "code",
   "execution_count": null,
   "id": "d7ae39ec",
   "metadata": {},
   "outputs": [],
   "source": []
  },
  {
   "cell_type": "code",
   "execution_count": null,
   "id": "aed752c1",
   "metadata": {},
   "outputs": [],
   "source": []
  },
  {
   "cell_type": "markdown",
   "id": "1271bcc6",
   "metadata": {},
   "source": [
    "## 2-4. 라이브러리의 함수 이용하기"
   ]
  },
  {
   "cell_type": "markdown",
   "id": "5a5a104a",
   "metadata": {},
   "source": [
    "라이브러리(Library) : 다른 사람이 미리 짜둔 코드  \n",
    "- 처음부터 모든 코드를 다 짤 필요 없다.\n",
    "- 라이브러리를 활용하면 쉽고 간편하게 파이썬 코딩이 가능!"
   ]
  },
  {
   "cell_type": "code",
   "execution_count": 21,
   "id": "2f52331b",
   "metadata": {
    "scrolled": true
   },
   "outputs": [],
   "source": [
    "# (예시1) datetime 라이브러리를 불러와서 datetime.now() 함수로 현재 시간 확인하기\n"
   ]
  },
  {
   "cell_type": "code",
   "execution_count": 22,
   "id": "ed5cb013",
   "metadata": {
    "scrolled": true
   },
   "outputs": [],
   "source": [
    "# (예시2) numpy 라이브러리로 평균을 구해보자\n"
   ]
  },
  {
   "cell_type": "markdown",
   "id": "90264040",
   "metadata": {},
   "source": [
    "이렇게 각 라이브러리마다 특정 함수들이 있고,   \n",
    "필요에 따라 import로 불러와 활용합니다."
   ]
  },
  {
   "cell_type": "markdown",
   "id": "567d3d85",
   "metadata": {},
   "source": [
    "### [실습] 라이브러리 활용"
   ]
  },
  {
   "cell_type": "markdown",
   "id": "a10293d0",
   "metadata": {},
   "source": [
    "1. import로 random 라이브러리 불러오기  \n",
    "2. random 라이브러리의 randint() 함수를 활용해서 1부터 100까지 숫자 중에서 랜덤으로 하나 선택하기 "
   ]
  },
  {
   "cell_type": "code",
   "execution_count": 23,
   "id": "a64e62b0",
   "metadata": {},
   "outputs": [],
   "source": [
    "# 1. import로 random 라이브러리 불러오기\n"
   ]
  },
  {
   "cell_type": "code",
   "execution_count": 24,
   "id": "5639a492",
   "metadata": {
    "scrolled": true
   },
   "outputs": [],
   "source": [
    "# 2. random 라이브러리의 randint() 함수를 활용해서,\n",
    "# 1부터 100까지 숫자 중에서 랜덤으로 하나 선택하기\n"
   ]
  },
  {
   "cell_type": "markdown",
   "id": "28f8c9c1",
   "metadata": {},
   "source": [
    "### [파이썬 문법] for문(반복문)"
   ]
  },
  {
   "cell_type": "code",
   "execution_count": 25,
   "id": "6c54d78c",
   "metadata": {
    "scrolled": true
   },
   "outputs": [],
   "source": [
    "# 리스트를 이용한 for문\n"
   ]
  },
  {
   "cell_type": "code",
   "execution_count": 26,
   "id": "cb25391f",
   "metadata": {},
   "outputs": [],
   "source": [
    "# range를 이용한 for문\n"
   ]
  },
  {
   "cell_type": "code",
   "execution_count": null,
   "id": "879acda0",
   "metadata": {},
   "outputs": [],
   "source": []
  },
  {
   "cell_type": "markdown",
   "id": "9fba693f",
   "metadata": {},
   "source": [
    "#### [실습] 임의의 데이터 생성\n",
    "1. 로또 번호 생성기: 1~46 사이 랜덤 정수 6개 print해보기 <힌트 : random 라이브러리의 randint(시작 수, 끝 수) >\n",
    "2. 정규분포 데이터 생성기 : 평균 174, 표준편차 1 정규분포를 가지는 실수 100개 만들기 <힌트 : numpy의 random.normal(평균, 표준편차, n) >"
   ]
  },
  {
   "cell_type": "code",
   "execution_count": 27,
   "id": "fefe30ab",
   "metadata": {},
   "outputs": [],
   "source": [
    "# 1. 로또 번호 생성기: 1~46 사이 랜덤 정수 6개 print해보기 \n",
    "# <힌트 : random 라이브러리의 randint(시작 수, 끝 수) >\n"
   ]
  },
  {
   "cell_type": "code",
   "execution_count": 28,
   "id": "2b7afc21",
   "metadata": {
    "scrolled": true
   },
   "outputs": [],
   "source": [
    "# 2. 정규분포 데이터 생성기 : 평균 174, 표준편차 1 정규분포를 가지는 실수 100개 만들기 \n",
    "# <힌트 : numpy의 random.normal(평균, 표준편차, n) >\n"
   ]
  },
  {
   "cell_type": "markdown",
   "id": "669d530f",
   "metadata": {},
   "source": [
    "## 2-5. 판다스(pandas) vs 넘파이(numpy)"
   ]
  },
  {
   "cell_type": "markdown",
   "id": "d52f68ca",
   "metadata": {},
   "source": [
    "- 넘파이(numpy) : 숫자, 행렬을 다루는 라이브러리  \n",
    "  - 주로 숫자 배열(array)을 다룸(2차원 배열 : 행렬)\n",
    "  - n차원 배열(ndarray) 연산도 가능"
   ]
  },
  {
   "cell_type": "code",
   "execution_count": 29,
   "id": "0384332e",
   "metadata": {},
   "outputs": [],
   "source": [
    "import numpy"
   ]
  },
  {
   "cell_type": "code",
   "execution_count": 30,
   "id": "94ef47ec",
   "metadata": {},
   "outputs": [],
   "source": [
    "exam_array = np.array( [[1,2], [3,5]] )\n",
    "\n"
   ]
  },
  {
   "cell_type": "code",
   "execution_count": 31,
   "id": "51512e18",
   "metadata": {},
   "outputs": [],
   "source": [
    "# numpy 라이브러리의 mean() 함수로 [1,2,3,4,5] 평균 구하기\n"
   ]
  },
  {
   "cell_type": "markdown",
   "id": "a6b3acd9",
   "metadata": {},
   "source": [
    "- 판다스(pandas) : 엑셀처럼 행(row), 열(coloumn)로 구성된 데이터 다루기\n",
    "   - 숫자 뿐만 아니라 텍스트도 다룸\n",
    "   - 엑셀과 비슷. 변수 이름(컬럼)과 함께 데이터분석 하기에 좋음."
   ]
  },
  {
   "cell_type": "code",
   "execution_count": 32,
   "id": "abdc1162",
   "metadata": {},
   "outputs": [],
   "source": [
    "import pandas as pd"
   ]
  },
  {
   "cell_type": "code",
   "execution_count": 33,
   "id": "6a0f77a6",
   "metadata": {},
   "outputs": [],
   "source": [
    "# 판다스의 read_csv( ) 함수로 csv 파일 읽기 (csv 데이터 => 행, 열로 구성됨)\n"
   ]
  },
  {
   "cell_type": "code",
   "execution_count": 34,
   "id": "21e7fc91",
   "metadata": {},
   "outputs": [],
   "source": [
    "# 데이터 확인\n"
   ]
  },
  {
   "cell_type": "code",
   "execution_count": 35,
   "id": "55c5d40b",
   "metadata": {},
   "outputs": [],
   "source": [
    "# 판다스에서 다루는 2가지 데이터 형태\n",
    "# 1차원(행 or 열) => series\n",
    "# 2차원(행, 열) => dataframe"
   ]
  },
  {
   "cell_type": "code",
   "execution_count": 36,
   "id": "0c063aad",
   "metadata": {},
   "outputs": [],
   "source": [
    "# 데이터프레임의 열 하나만 선택 => series(1차원)\n"
   ]
  },
  {
   "cell_type": "code",
   "execution_count": 37,
   "id": "a2c772a1",
   "metadata": {},
   "outputs": [],
   "source": [
    "# 리스트를 활용한 복수 변수 선택 => dataframe(2차원)\n"
   ]
  },
  {
   "cell_type": "code",
   "execution_count": 38,
   "id": "4bc18d38",
   "metadata": {},
   "outputs": [],
   "source": [
    "# dataframe 타입\n"
   ]
  },
  {
   "cell_type": "code",
   "execution_count": 39,
   "id": "7fbc5a24",
   "metadata": {},
   "outputs": [],
   "source": [
    "# 데이터프레임의 columns(변수 이름) 확인\n"
   ]
  },
  {
   "cell_type": "markdown",
   "id": "186ff829",
   "metadata": {},
   "source": [
    "#### [실습] PulseRates.csv를 불러와서 df_pr로 저장 후,\n",
    "1. 행,열 수 확인\n",
    "2. 상위(head) 데이터 5개 확인"
   ]
  },
  {
   "cell_type": "code",
   "execution_count": 40,
   "id": "b0152a91",
   "metadata": {},
   "outputs": [],
   "source": [
    "# print working directory\n"
   ]
  },
  {
   "cell_type": "code",
   "execution_count": null,
   "id": "886138ac",
   "metadata": {},
   "outputs": [],
   "source": []
  },
  {
   "cell_type": "code",
   "execution_count": null,
   "id": "14a7ecd7",
   "metadata": {},
   "outputs": [],
   "source": []
  },
  {
   "cell_type": "markdown",
   "id": "bfd28822",
   "metadata": {},
   "source": [
    "### 데이터프레임에서 조건에 맞는 데이터 추출하기"
   ]
  },
  {
   "cell_type": "code",
   "execution_count": 41,
   "id": "13c740e7",
   "metadata": {},
   "outputs": [],
   "source": [
    "# 데이터프레임에서 조건에 해당하는 데이터 추출하기 : df[df_조건]\n"
   ]
  },
  {
   "cell_type": "code",
   "execution_count": 42,
   "id": "415d4755",
   "metadata": {},
   "outputs": [],
   "source": [
    "# 데이터프레임에서 성별이 male 인 데이터만 추출하기\n"
   ]
  },
  {
   "cell_type": "markdown",
   "id": "e463ae41",
   "metadata": {},
   "source": [
    "#### [실습] 데이터 불러오기 및 부분 선택\n",
    "1. data폴더에서 StudentsPerformance.csv를 불러와서 df_sp로 저장하기  \n",
    "2. df_sp에서 math score, reading score, writing score 세 변수 선택하기  \n",
    "3. df_sp에서 math score가 90이상인 데이터 선택하기  \n",
    "4. df_sp에서 gender가 female인 데이터 선택하고 df_female 에 저장하기"
   ]
  },
  {
   "cell_type": "code",
   "execution_count": null,
   "id": "5e62e337",
   "metadata": {},
   "outputs": [],
   "source": []
  },
  {
   "cell_type": "code",
   "execution_count": null,
   "id": "ce278650",
   "metadata": {},
   "outputs": [],
   "source": []
  },
  {
   "cell_type": "code",
   "execution_count": null,
   "id": "c5fdd848",
   "metadata": {},
   "outputs": [],
   "source": []
  },
  {
   "cell_type": "code",
   "execution_count": null,
   "id": "a0523bf2",
   "metadata": {
    "scrolled": false
   },
   "outputs": [],
   "source": []
  },
  {
   "cell_type": "markdown",
   "id": "efb11ad9",
   "metadata": {},
   "source": [
    "#### End of Script"
   ]
  }
 ],
 "metadata": {
  "kernelspec": {
   "display_name": "Python 3 (ipykernel)",
   "language": "python",
   "name": "python3"
  },
  "language_info": {
   "codemirror_mode": {
    "name": "ipython",
    "version": 3
   },
   "file_extension": ".py",
   "mimetype": "text/x-python",
   "name": "python",
   "nbconvert_exporter": "python",
   "pygments_lexer": "ipython3",
   "version": "3.7.16"
  },
  "varInspector": {
   "cols": {
    "lenName": 16,
    "lenType": 16,
    "lenVar": 40
   },
   "kernels_config": {
    "python": {
     "delete_cmd_postfix": "",
     "delete_cmd_prefix": "del ",
     "library": "var_list.py",
     "varRefreshCmd": "print(var_dic_list())"
    },
    "r": {
     "delete_cmd_postfix": ") ",
     "delete_cmd_prefix": "rm(",
     "library": "var_list.r",
     "varRefreshCmd": "cat(var_dic_list()) "
    }
   },
   "types_to_exclude": [
    "module",
    "function",
    "builtin_function_or_method",
    "instance",
    "_Feature"
   ],
   "window_display": false
  }
 },
 "nbformat": 4,
 "nbformat_minor": 5
}
