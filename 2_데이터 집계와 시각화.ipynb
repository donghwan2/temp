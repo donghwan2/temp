{
 "cells": [
  {
   "cell_type": "markdown",
   "id": "ba8e0db0",
   "metadata": {},
   "source": [
    "### 목차\n",
    "\n",
    "1. 범주형 변수의 요약과 시각화 : nuique, value_counts, countplot \n",
    "2. 수치형 변수의 집계값과 분포 그래프 : describe, np.mean, np.std, histplot, quantile, boxplot  \n",
    "3. 두 범주형 변수의 관계 탐색 : crosstab, heatmap\n",
    "4. 두 수치형 변수의 관계 : scatterplot, corr\n",
    "5. 범주형 변수와 수치형 변수의 관계 : groupby, histplot-hue, pivot_table\n",
    "\n",
    "\n",
    "\n",
    "### 목표 \n",
    "1. 집계값을 계산할 수 있다.\n",
    "2. 적절한 그래프를 작성하고 올바르게 해석할 수 있다.\n",
    "\n",
    "<hr>\n",
    "<br>"
   ]
  },
  {
   "cell_type": "markdown",
   "id": "2dd708f5",
   "metadata": {},
   "source": [
    "## 라이브러리 불러오기 "
   ]
  },
  {
   "cell_type": "code",
   "execution_count": 1,
   "id": "a991ed51",
   "metadata": {},
   "outputs": [],
   "source": [
    "import numpy as np\n",
    "import pandas as pd\n",
    "\n",
    "# 그래프 라이브러리\n",
    "import seaborn as sns \n",
    "import matplotlib.pyplot as plt\n",
    "\n",
    "# 워닝 무시\n",
    "import warnings\n",
    "warnings.filterwarnings('ignore')"
   ]
  },
  {
   "cell_type": "markdown",
   "id": "9e7039ec",
   "metadata": {},
   "source": [
    "## 예제 및 실습 데이터 불러오기"
   ]
  },
  {
   "cell_type": "code",
   "execution_count": 2,
   "id": "d8b0a22e",
   "metadata": {},
   "outputs": [],
   "source": [
    "# 보험 데이터 불러오기\n",
    "df_ins = pd.read_csv('data/insurance.csv')\n",
    "\n",
    "# 행열 수 확인, 상위 5개 데이터 확인\n"
   ]
  },
  {
   "cell_type": "code",
   "execution_count": 3,
   "id": "66448535",
   "metadata": {
    "scrolled": true
   },
   "outputs": [
    {
     "name": "stdout",
     "output_type": "stream",
     "text": [
      "(1000, 8)\n"
     ]
    },
    {
     "data": {
      "text/html": [
       "<div>\n",
       "<style scoped>\n",
       "    .dataframe tbody tr th:only-of-type {\n",
       "        vertical-align: middle;\n",
       "    }\n",
       "\n",
       "    .dataframe tbody tr th {\n",
       "        vertical-align: top;\n",
       "    }\n",
       "\n",
       "    .dataframe thead th {\n",
       "        text-align: right;\n",
       "    }\n",
       "</style>\n",
       "<table border=\"1\" class=\"dataframe\">\n",
       "  <thead>\n",
       "    <tr style=\"text-align: right;\">\n",
       "      <th></th>\n",
       "      <th>gender</th>\n",
       "      <th>race/ethnicity</th>\n",
       "      <th>parental level of education</th>\n",
       "      <th>lunch</th>\n",
       "      <th>test preparation course</th>\n",
       "      <th>math score</th>\n",
       "      <th>reading score</th>\n",
       "      <th>writing score</th>\n",
       "    </tr>\n",
       "  </thead>\n",
       "  <tbody>\n",
       "    <tr>\n",
       "      <th>0</th>\n",
       "      <td>female</td>\n",
       "      <td>group B</td>\n",
       "      <td>bachelor's degree</td>\n",
       "      <td>standard</td>\n",
       "      <td>none</td>\n",
       "      <td>72</td>\n",
       "      <td>72</td>\n",
       "      <td>74</td>\n",
       "    </tr>\n",
       "    <tr>\n",
       "      <th>1</th>\n",
       "      <td>female</td>\n",
       "      <td>group C</td>\n",
       "      <td>some college</td>\n",
       "      <td>standard</td>\n",
       "      <td>completed</td>\n",
       "      <td>69</td>\n",
       "      <td>90</td>\n",
       "      <td>88</td>\n",
       "    </tr>\n",
       "    <tr>\n",
       "      <th>2</th>\n",
       "      <td>female</td>\n",
       "      <td>group B</td>\n",
       "      <td>master's degree</td>\n",
       "      <td>standard</td>\n",
       "      <td>none</td>\n",
       "      <td>90</td>\n",
       "      <td>95</td>\n",
       "      <td>93</td>\n",
       "    </tr>\n",
       "    <tr>\n",
       "      <th>3</th>\n",
       "      <td>male</td>\n",
       "      <td>group A</td>\n",
       "      <td>associate's degree</td>\n",
       "      <td>free/reduced</td>\n",
       "      <td>none</td>\n",
       "      <td>47</td>\n",
       "      <td>57</td>\n",
       "      <td>44</td>\n",
       "    </tr>\n",
       "    <tr>\n",
       "      <th>4</th>\n",
       "      <td>male</td>\n",
       "      <td>group C</td>\n",
       "      <td>some college</td>\n",
       "      <td>standard</td>\n",
       "      <td>none</td>\n",
       "      <td>76</td>\n",
       "      <td>78</td>\n",
       "      <td>75</td>\n",
       "    </tr>\n",
       "    <tr>\n",
       "      <th>5</th>\n",
       "      <td>female</td>\n",
       "      <td>group B</td>\n",
       "      <td>associate's degree</td>\n",
       "      <td>standard</td>\n",
       "      <td>none</td>\n",
       "      <td>71</td>\n",
       "      <td>83</td>\n",
       "      <td>78</td>\n",
       "    </tr>\n",
       "    <tr>\n",
       "      <th>6</th>\n",
       "      <td>female</td>\n",
       "      <td>group B</td>\n",
       "      <td>some college</td>\n",
       "      <td>standard</td>\n",
       "      <td>completed</td>\n",
       "      <td>88</td>\n",
       "      <td>95</td>\n",
       "      <td>92</td>\n",
       "    </tr>\n",
       "    <tr>\n",
       "      <th>7</th>\n",
       "      <td>male</td>\n",
       "      <td>group B</td>\n",
       "      <td>some college</td>\n",
       "      <td>free/reduced</td>\n",
       "      <td>none</td>\n",
       "      <td>40</td>\n",
       "      <td>43</td>\n",
       "      <td>39</td>\n",
       "    </tr>\n",
       "    <tr>\n",
       "      <th>8</th>\n",
       "      <td>male</td>\n",
       "      <td>group D</td>\n",
       "      <td>high school</td>\n",
       "      <td>free/reduced</td>\n",
       "      <td>completed</td>\n",
       "      <td>64</td>\n",
       "      <td>64</td>\n",
       "      <td>67</td>\n",
       "    </tr>\n",
       "    <tr>\n",
       "      <th>9</th>\n",
       "      <td>female</td>\n",
       "      <td>group B</td>\n",
       "      <td>high school</td>\n",
       "      <td>free/reduced</td>\n",
       "      <td>none</td>\n",
       "      <td>38</td>\n",
       "      <td>60</td>\n",
       "      <td>50</td>\n",
       "    </tr>\n",
       "  </tbody>\n",
       "</table>\n",
       "</div>"
      ],
      "text/plain": [
       "   gender race/ethnicity parental level of education         lunch  \\\n",
       "0  female        group B           bachelor's degree      standard   \n",
       "1  female        group C                some college      standard   \n",
       "2  female        group B             master's degree      standard   \n",
       "3    male        group A          associate's degree  free/reduced   \n",
       "4    male        group C                some college      standard   \n",
       "5  female        group B          associate's degree      standard   \n",
       "6  female        group B                some college      standard   \n",
       "7    male        group B                some college  free/reduced   \n",
       "8    male        group D                 high school  free/reduced   \n",
       "9  female        group B                 high school  free/reduced   \n",
       "\n",
       "  test preparation course  math score  reading score  writing score  \n",
       "0                    none          72             72             74  \n",
       "1               completed          69             90             88  \n",
       "2                    none          90             95             93  \n",
       "3                    none          47             57             44  \n",
       "4                    none          76             78             75  \n",
       "5                    none          71             83             78  \n",
       "6               completed          88             95             92  \n",
       "7                    none          40             43             39  \n",
       "8               completed          64             64             67  \n",
       "9                    none          38             60             50  "
      ]
     },
     "execution_count": 3,
     "metadata": {},
     "output_type": "execute_result"
    }
   ],
   "source": [
    "# 성적 데이터 불러오기\n",
    "df_sp = pd.read_csv('data/StudentsPerformance.csv')\n",
    "\n",
    "print(df_sp.shape)\n",
    "df_sp.head(10)"
   ]
  },
  {
   "cell_type": "code",
   "execution_count": 4,
   "id": "daeca60b",
   "metadata": {},
   "outputs": [],
   "source": [
    "# 수치형 변수들의 기초통계량 확인(데이터 수, 평균, 표준편차, 최소값, 사분위수)\n"
   ]
  },
  {
   "cell_type": "markdown",
   "id": "ccf26af6",
   "metadata": {},
   "source": [
    "<br>\n",
    "\n",
    "# 1. 범주형 변수의 요약과 시각화  "
   ]
  },
  {
   "cell_type": "code",
   "execution_count": 5,
   "id": "00c40803",
   "metadata": {},
   "outputs": [],
   "source": [
    "# 수준(levels) 목록 확인\n"
   ]
  },
  {
   "cell_type": "code",
   "execution_count": 6,
   "id": "eb9aa852",
   "metadata": {},
   "outputs": [],
   "source": [
    "# 수준(levels) 개수 확인 \n"
   ]
  },
  {
   "cell_type": "markdown",
   "id": "65cf0dd4",
   "metadata": {},
   "source": [
    "<br>\n",
    "\n",
    "### 1.1. 수준 별 관측치 수 계산 "
   ]
  },
  {
   "cell_type": "code",
   "execution_count": 7,
   "id": "1cd18429",
   "metadata": {},
   "outputs": [],
   "source": [
    "# 수준별 관측치 수 세기\n"
   ]
  },
  {
   "cell_type": "markdown",
   "id": "0f028e77",
   "metadata": {},
   "source": [
    "\n",
    "### 1.2. 수준 별 관측치 수 막대그래프\n"
   ]
  },
  {
   "cell_type": "code",
   "execution_count": 8,
   "id": "f456ac57",
   "metadata": {
    "scrolled": false
   },
   "outputs": [],
   "source": [
    "# seaborn을 활용한 막대그래프\n"
   ]
  },
  {
   "cell_type": "markdown",
   "id": "790e3bc4",
   "metadata": {},
   "source": [
    "\n",
    "<br>\n",
    "\n",
    "#### [실습] 범주형 변수 수준 확인\n",
    "\n",
    "1. 데이터 df_sp에서 'parental level of education'의 수준 목록 확인하기 \n",
    "2. 데이터 df_sp에서 'parental level of education'의 수준 별 관측치 수 계산하기\n",
    "3. 데이터 df_sp에서 'parental level of education'의 수준 별 관측치 수 막대그래프 그리기"
   ]
  },
  {
   "cell_type": "code",
   "execution_count": null,
   "id": "69e21254",
   "metadata": {},
   "outputs": [],
   "source": []
  },
  {
   "cell_type": "code",
   "execution_count": null,
   "id": "10375b20",
   "metadata": {},
   "outputs": [],
   "source": []
  },
  {
   "cell_type": "code",
   "execution_count": null,
   "id": "f559ca51",
   "metadata": {},
   "outputs": [],
   "source": []
  },
  {
   "cell_type": "markdown",
   "id": "8012b0c1",
   "metadata": {},
   "source": [
    "<br>\n",
    "<br>\n",
    "<br>\n",
    "\n",
    "# 2. 수치형 변수의 집계값과 분포 그래프\n",
    "\n",
    "집계값 : 카운트, 평균, 4분위수 등  (기초통계량이라고도 부름)  \n",
    "\n",
    "### 2.1. 수치형 변수의 집계값 계산\n"
   ]
  },
  {
   "cell_type": "code",
   "execution_count": 9,
   "id": "07f4d098",
   "metadata": {
    "scrolled": true
   },
   "outputs": [
    {
     "data": {
      "text/html": [
       "<div>\n",
       "<style scoped>\n",
       "    .dataframe tbody tr th:only-of-type {\n",
       "        vertical-align: middle;\n",
       "    }\n",
       "\n",
       "    .dataframe tbody tr th {\n",
       "        vertical-align: top;\n",
       "    }\n",
       "\n",
       "    .dataframe thead th {\n",
       "        text-align: right;\n",
       "    }\n",
       "</style>\n",
       "<table border=\"1\" class=\"dataframe\">\n",
       "  <thead>\n",
       "    <tr style=\"text-align: right;\">\n",
       "      <th></th>\n",
       "      <th>age</th>\n",
       "      <th>bmi</th>\n",
       "      <th>children</th>\n",
       "      <th>charges</th>\n",
       "    </tr>\n",
       "  </thead>\n",
       "  <tbody>\n",
       "    <tr>\n",
       "      <th>count</th>\n",
       "      <td>1338.000000</td>\n",
       "      <td>1338.000000</td>\n",
       "      <td>1338.000000</td>\n",
       "      <td>1338.000000</td>\n",
       "    </tr>\n",
       "    <tr>\n",
       "      <th>mean</th>\n",
       "      <td>39.207025</td>\n",
       "      <td>30.663397</td>\n",
       "      <td>1.094918</td>\n",
       "      <td>13270.422265</td>\n",
       "    </tr>\n",
       "    <tr>\n",
       "      <th>std</th>\n",
       "      <td>14.049960</td>\n",
       "      <td>6.098187</td>\n",
       "      <td>1.205493</td>\n",
       "      <td>12110.011237</td>\n",
       "    </tr>\n",
       "    <tr>\n",
       "      <th>min</th>\n",
       "      <td>18.000000</td>\n",
       "      <td>15.960000</td>\n",
       "      <td>0.000000</td>\n",
       "      <td>1121.873900</td>\n",
       "    </tr>\n",
       "    <tr>\n",
       "      <th>25%</th>\n",
       "      <td>27.000000</td>\n",
       "      <td>26.296250</td>\n",
       "      <td>0.000000</td>\n",
       "      <td>4740.287150</td>\n",
       "    </tr>\n",
       "    <tr>\n",
       "      <th>50%</th>\n",
       "      <td>39.000000</td>\n",
       "      <td>30.400000</td>\n",
       "      <td>1.000000</td>\n",
       "      <td>9382.033000</td>\n",
       "    </tr>\n",
       "    <tr>\n",
       "      <th>75%</th>\n",
       "      <td>51.000000</td>\n",
       "      <td>34.693750</td>\n",
       "      <td>2.000000</td>\n",
       "      <td>16639.912515</td>\n",
       "    </tr>\n",
       "    <tr>\n",
       "      <th>max</th>\n",
       "      <td>64.000000</td>\n",
       "      <td>53.130000</td>\n",
       "      <td>5.000000</td>\n",
       "      <td>63770.428010</td>\n",
       "    </tr>\n",
       "  </tbody>\n",
       "</table>\n",
       "</div>"
      ],
      "text/plain": [
       "               age          bmi     children       charges\n",
       "count  1338.000000  1338.000000  1338.000000   1338.000000\n",
       "mean     39.207025    30.663397     1.094918  13270.422265\n",
       "std      14.049960     6.098187     1.205493  12110.011237\n",
       "min      18.000000    15.960000     0.000000   1121.873900\n",
       "25%      27.000000    26.296250     0.000000   4740.287150\n",
       "50%      39.000000    30.400000     1.000000   9382.033000\n",
       "75%      51.000000    34.693750     2.000000  16639.912515\n",
       "max      64.000000    53.130000     5.000000  63770.428010"
      ]
     },
     "execution_count": 9,
     "metadata": {},
     "output_type": "execute_result"
    }
   ],
   "source": [
    "df_ins.describe()"
   ]
  },
  {
   "cell_type": "code",
   "execution_count": 10,
   "id": "c8866431",
   "metadata": {},
   "outputs": [],
   "source": [
    "# 변수 선택\n"
   ]
  },
  {
   "cell_type": "code",
   "execution_count": 11,
   "id": "39731115",
   "metadata": {},
   "outputs": [],
   "source": [
    "# 평균\n"
   ]
  },
  {
   "cell_type": "code",
   "execution_count": 12,
   "id": "cf07e50e",
   "metadata": {},
   "outputs": [],
   "source": [
    "# 합계\n"
   ]
  },
  {
   "cell_type": "code",
   "execution_count": 13,
   "id": "ec4c4c25",
   "metadata": {},
   "outputs": [],
   "source": [
    "# 분산\n"
   ]
  },
  {
   "cell_type": "code",
   "execution_count": 14,
   "id": "77ccd25e",
   "metadata": {},
   "outputs": [],
   "source": [
    "# 표준편차\n"
   ]
  },
  {
   "cell_type": "code",
   "execution_count": 15,
   "id": "cee0ae55",
   "metadata": {
    "scrolled": true
   },
   "outputs": [],
   "source": [
    "# 관측치 수\n"
   ]
  },
  {
   "cell_type": "markdown",
   "id": "c9e3d738",
   "metadata": {},
   "source": [
    "<br>\n",
    "\n",
    "### 2.2. 히스토그램(histogram) : 수치형 변수의 분포 파악"
   ]
  },
  {
   "cell_type": "code",
   "execution_count": 16,
   "id": "6cfe3ac5",
   "metadata": {
    "scrolled": true
   },
   "outputs": [],
   "source": [
    "# histplot()으로 히스토그램 그리기\n"
   ]
  },
  {
   "cell_type": "code",
   "execution_count": 17,
   "id": "a455f140",
   "metadata": {
    "scrolled": false
   },
   "outputs": [],
   "source": [
    "# 히스토그램의 binwidth 바꿔보기\n"
   ]
  },
  {
   "cell_type": "code",
   "execution_count": 18,
   "id": "81eff5f4",
   "metadata": {},
   "outputs": [],
   "source": [
    "# 히스토그램의 color 바꿔보기 \n"
   ]
  },
  {
   "cell_type": "markdown",
   "id": "c6210cb3",
   "metadata": {},
   "source": [
    "<br>\n",
    "\n",
    "#### [실습] 한 수치형 변수에 대한 요약과 시각화\n",
    "\n",
    "1. df_sp에서 'math score'의 평균 계산하기\n",
    "2. df_sp에서 'math score'의 히스토그램 그리기\n",
    "3. df_sp에서 'reading score'로 1~2. 반복하기\n",
    "\n"
   ]
  },
  {
   "cell_type": "code",
   "execution_count": null,
   "id": "8a209693",
   "metadata": {},
   "outputs": [],
   "source": []
  },
  {
   "cell_type": "code",
   "execution_count": null,
   "id": "b1bd477e",
   "metadata": {},
   "outputs": [],
   "source": []
  },
  {
   "cell_type": "code",
   "execution_count": null,
   "id": "45787b31",
   "metadata": {},
   "outputs": [],
   "source": []
  },
  {
   "cell_type": "markdown",
   "id": "80f16c9c",
   "metadata": {},
   "source": [
    "<br>\n",
    "\n",
    "\n",
    "### 2.3. 분위수와 상자그림\n",
    "\n",
    "데이터를 값 순서대로 정렬하고 위치에 따른 값 파악하기\n",
    "\n",
    "사분위수(quartile; Q1, Q2, Q3)를 계산하고 상자그림(boxplot)으로 분포 확인\n",
    "* 최솟값(minimum, 0%)\n",
    "* Q1(1st Quartile, 25%)\n",
    "* Q2, 중앙값(median, 50%)\n",
    "* Q3(3rd Quartile, 75%)\n",
    "* 최댓값(maximum, 100%) "
   ]
  },
  {
   "cell_type": "code",
   "execution_count": 19,
   "id": "e8c42266",
   "metadata": {},
   "outputs": [
    {
     "name": "stdout",
     "output_type": "stream",
     "text": [
      "1121.8739\n",
      "9382.033\n",
      "63770.42801\n"
     ]
    }
   ],
   "source": [
    "# 대표적인 3가지 통계량\n",
    "print(df_ins['charges'].min())\n",
    "print(df_ins['charges'].median())\n",
    "print(df_ins['charges'].max())"
   ]
  },
  {
   "cell_type": "code",
   "execution_count": 20,
   "id": "d8b0a9ad",
   "metadata": {},
   "outputs": [],
   "source": [
    "# 분위수 계산\n",
    "# quantile() : 특정 비율에 위치한 값\n"
   ]
  },
  {
   "cell_type": "code",
   "execution_count": 21,
   "id": "a91e03b3",
   "metadata": {},
   "outputs": [],
   "source": [
    "# age의 사분위수 계산\n"
   ]
  },
  {
   "cell_type": "code",
   "execution_count": 22,
   "id": "edf94479",
   "metadata": {},
   "outputs": [],
   "source": [
    "# boxplot()을 활용한 age 상자그림\n"
   ]
  },
  {
   "cell_type": "code",
   "execution_count": 23,
   "id": "d4d09c04",
   "metadata": {},
   "outputs": [],
   "source": [
    "# boxplot()을 활용한 charges의 상자그림과 이상치\n"
   ]
  },
  {
   "cell_type": "markdown",
   "id": "83096bcf",
   "metadata": {},
   "source": [
    "<br>\n",
    "\n",
    "#### [실습] 사분위수 구하기, 상자그림\n",
    "\n",
    "1. df_sp에서 'reading score'의 Q1(25%), 중위수(median, 50%), Q3(75%) 계산하기\n",
    "2. df_sp에서 'reading score'의 상자그림 그리기"
   ]
  },
  {
   "cell_type": "code",
   "execution_count": null,
   "id": "9d65f827",
   "metadata": {},
   "outputs": [],
   "source": []
  },
  {
   "cell_type": "code",
   "execution_count": null,
   "id": "e7f2835d",
   "metadata": {},
   "outputs": [],
   "source": []
  },
  {
   "cell_type": "code",
   "execution_count": null,
   "id": "fa3d52a8",
   "metadata": {},
   "outputs": [],
   "source": []
  },
  {
   "cell_type": "code",
   "execution_count": null,
   "id": "c0b9880d",
   "metadata": {},
   "outputs": [],
   "source": []
  },
  {
   "cell_type": "code",
   "execution_count": null,
   "id": "1c66ceee",
   "metadata": {},
   "outputs": [],
   "source": []
  },
  {
   "cell_type": "markdown",
   "id": "90f4944f",
   "metadata": {},
   "source": [
    "<br>\n",
    "<br>\n",
    "\n",
    "#### [실습] reading score 이상치 데이터 추출 실습"
   ]
  },
  {
   "cell_type": "markdown",
   "id": "18836262",
   "metadata": {},
   "source": [
    "IQR 구하고 이상치 기준 정한 후 데이터프레임 조건식 활용해서 이상치 데이터 추출하기"
   ]
  },
  {
   "cell_type": "code",
   "execution_count": null,
   "id": "08635ac2",
   "metadata": {},
   "outputs": [],
   "source": []
  },
  {
   "cell_type": "code",
   "execution_count": null,
   "id": "4d467d4c",
   "metadata": {},
   "outputs": [],
   "source": []
  },
  {
   "cell_type": "code",
   "execution_count": null,
   "id": "621fc2e2",
   "metadata": {},
   "outputs": [],
   "source": []
  },
  {
   "cell_type": "code",
   "execution_count": null,
   "id": "fb174112",
   "metadata": {},
   "outputs": [],
   "source": []
  },
  {
   "cell_type": "code",
   "execution_count": null,
   "id": "1c3a2c19",
   "metadata": {},
   "outputs": [],
   "source": []
  },
  {
   "cell_type": "code",
   "execution_count": null,
   "id": "c4ad032c",
   "metadata": {},
   "outputs": [],
   "source": []
  },
  {
   "cell_type": "code",
   "execution_count": null,
   "id": "685ae81f",
   "metadata": {},
   "outputs": [],
   "source": []
  },
  {
   "cell_type": "markdown",
   "id": "e9556495",
   "metadata": {},
   "source": [
    "<br>\n",
    "<br>\n",
    "<br>\n",
    "\n",
    "# 3. 두 범주형 변수의 관계 탐색\n",
    "\n",
    "- `crosstab()`으로 **교차표** 만들기\n",
    "- `열지도(heatmap)`\n"
   ]
  },
  {
   "cell_type": "markdown",
   "id": "fa72055b",
   "metadata": {},
   "source": [
    "<br>\n",
    "\n",
    "### 3.1. 교차표 생성과 열지도 그리기\n"
   ]
  },
  {
   "cell_type": "code",
   "execution_count": 24,
   "id": "1d61ba63",
   "metadata": {},
   "outputs": [],
   "source": [
    "# 성별 흡연자 빈도는 어떻게 될까?\n"
   ]
  },
  {
   "cell_type": "code",
   "execution_count": 25,
   "id": "eefff023",
   "metadata": {},
   "outputs": [],
   "source": [
    "# 열지도 시각화\n",
    "\n",
    "\n",
    "# cmap : 색상 조합\n",
    "# annot=True : 수치 출력 여부\n",
    "# fmt : 수치 출력 형식, 'd' 정수, '.2f' 소수점 둘째자리 소수"
   ]
  },
  {
   "cell_type": "markdown",
   "id": "bd18ece8",
   "metadata": {},
   "source": [
    "* 참고: [Color Palette](https://seaborn.pydata.org/tutorial/color_palettes.html)"
   ]
  },
  {
   "cell_type": "markdown",
   "id": "482839f0",
   "metadata": {},
   "source": [
    "<br>\n",
    "\n",
    "*crosstab( )*에서 `margins=True` 옵션을 활용하면 행 합계, 열 합계, 전체 합계 한번에 계산 가능"
   ]
  },
  {
   "cell_type": "code",
   "execution_count": 26,
   "id": "7717be20",
   "metadata": {},
   "outputs": [
    {
     "data": {
      "text/html": [
       "<div>\n",
       "<style scoped>\n",
       "    .dataframe tbody tr th:only-of-type {\n",
       "        vertical-align: middle;\n",
       "    }\n",
       "\n",
       "    .dataframe tbody tr th {\n",
       "        vertical-align: top;\n",
       "    }\n",
       "\n",
       "    .dataframe thead th {\n",
       "        text-align: right;\n",
       "    }\n",
       "</style>\n",
       "<table border=\"1\" class=\"dataframe\">\n",
       "  <thead>\n",
       "    <tr style=\"text-align: right;\">\n",
       "      <th>smoker</th>\n",
       "      <th>no</th>\n",
       "      <th>yes</th>\n",
       "      <th>All</th>\n",
       "    </tr>\n",
       "    <tr>\n",
       "      <th>sex</th>\n",
       "      <th></th>\n",
       "      <th></th>\n",
       "      <th></th>\n",
       "    </tr>\n",
       "  </thead>\n",
       "  <tbody>\n",
       "    <tr>\n",
       "      <th>female</th>\n",
       "      <td>547</td>\n",
       "      <td>115</td>\n",
       "      <td>662</td>\n",
       "    </tr>\n",
       "    <tr>\n",
       "      <th>male</th>\n",
       "      <td>517</td>\n",
       "      <td>159</td>\n",
       "      <td>676</td>\n",
       "    </tr>\n",
       "    <tr>\n",
       "      <th>All</th>\n",
       "      <td>1064</td>\n",
       "      <td>274</td>\n",
       "      <td>1338</td>\n",
       "    </tr>\n",
       "  </tbody>\n",
       "</table>\n",
       "</div>"
      ],
      "text/plain": [
       "smoker    no  yes   All\n",
       "sex                    \n",
       "female   547  115   662\n",
       "male     517  159   676\n",
       "All     1064  274  1338"
      ]
     },
     "execution_count": 26,
     "metadata": {},
     "output_type": "execute_result"
    }
   ],
   "source": [
    "# crosstab()을 활용한 교차표 생성\n",
    "tab1m = pd.crosstab(df_ins['sex'], df_ins['smoker'], margins=True)\n",
    "tab1m"
   ]
  },
  {
   "cell_type": "code",
   "execution_count": 27,
   "id": "db126bb1",
   "metadata": {},
   "outputs": [],
   "source": [
    "# 열지도 시각화\n"
   ]
  },
  {
   "cell_type": "markdown",
   "id": "5e01897d",
   "metadata": {},
   "source": [
    "<br>\n",
    "\n",
    "### 3.2. 행백분율과 열백분율의 계산과 열지도 그리기\n",
    "\n",
    "두 범주형 변수의 상대적인 비율 구하기  \n",
    "\n",
    "`normalize=` 옵션을 활용해서 교차표에서 비율 계산 가능 \n",
    "\n",
    "* `normalize='all'`: 전체 중 각 셀 비중\n",
    "* `normalize='index'`: 행 백분율(행 합계 중 각 셀의 비중)\n",
    "* `normalize='columns'`: 열 백분율(열 합계 중 각 셀의 비중)\n"
   ]
  },
  {
   "cell_type": "code",
   "execution_count": 28,
   "id": "bd98e84e",
   "metadata": {},
   "outputs": [],
   "source": [
    "# 전체 백분율\n",
    "tab1_all = pd.crosstab(df_ins['sex'], df_ins['smoker'], normalize='all')"
   ]
  },
  {
   "cell_type": "code",
   "execution_count": 29,
   "id": "5f915aa0",
   "metadata": {},
   "outputs": [
    {
     "data": {
      "image/png": "[encoded data removed]",
      "text/plain": [
       "<Figure size 640x480 with 2 Axes>"
      ]
     },
     "metadata": {},
     "output_type": "display_data"
    }
   ],
   "source": [
    "sns.heatmap(tab1_all, cmap='YlGnBu', annot=True, fmt='.2f')\n",
    "\n",
    "plt.show();"
   ]
  },
  {
   "cell_type": "code",
   "execution_count": 30,
   "id": "bd97290a",
   "metadata": {},
   "outputs": [
    {
     "data": {
      "text/html": [
       "<div>\n",
       "<style scoped>\n",
       "    .dataframe tbody tr th:only-of-type {\n",
       "        vertical-align: middle;\n",
       "    }\n",
       "\n",
       "    .dataframe tbody tr th {\n",
       "        vertical-align: top;\n",
       "    }\n",
       "\n",
       "    .dataframe thead th {\n",
       "        text-align: right;\n",
       "    }\n",
       "</style>\n",
       "<table border=\"1\" class=\"dataframe\">\n",
       "  <thead>\n",
       "    <tr style=\"text-align: right;\">\n",
       "      <th>smoker</th>\n",
       "      <th>no</th>\n",
       "      <th>yes</th>\n",
       "    </tr>\n",
       "    <tr>\n",
       "      <th>sex</th>\n",
       "      <th></th>\n",
       "      <th></th>\n",
       "    </tr>\n",
       "  </thead>\n",
       "  <tbody>\n",
       "    <tr>\n",
       "      <th>female</th>\n",
       "      <td>0.826284</td>\n",
       "      <td>0.173716</td>\n",
       "    </tr>\n",
       "    <tr>\n",
       "      <th>male</th>\n",
       "      <td>0.764793</td>\n",
       "      <td>0.235207</td>\n",
       "    </tr>\n",
       "  </tbody>\n",
       "</table>\n",
       "</div>"
      ],
      "text/plain": [
       "smoker        no       yes\n",
       "sex                       \n",
       "female  0.826284  0.173716\n",
       "male    0.764793  0.235207"
      ]
     },
     "execution_count": 30,
     "metadata": {},
     "output_type": "execute_result"
    }
   ],
   "source": [
    "# 행백분율\n",
    "# normalize='index'\n",
    "tab1_idx = pd.crosstab(df_ins['sex'], df_ins['smoker'], normalize='index')\n",
    "tab1_idx"
   ]
  },
  {
   "cell_type": "code",
   "execution_count": 31,
   "id": "e5657488",
   "metadata": {},
   "outputs": [],
   "source": [
    "# 히트맵(행백분율)\n"
   ]
  },
  {
   "cell_type": "code",
   "execution_count": 32,
   "id": "1ba28f9c",
   "metadata": {},
   "outputs": [
    {
     "data": {
      "text/html": [
       "<div>\n",
       "<style scoped>\n",
       "    .dataframe tbody tr th:only-of-type {\n",
       "        vertical-align: middle;\n",
       "    }\n",
       "\n",
       "    .dataframe tbody tr th {\n",
       "        vertical-align: top;\n",
       "    }\n",
       "\n",
       "    .dataframe thead th {\n",
       "        text-align: right;\n",
       "    }\n",
       "</style>\n",
       "<table border=\"1\" class=\"dataframe\">\n",
       "  <thead>\n",
       "    <tr style=\"text-align: right;\">\n",
       "      <th>smoker</th>\n",
       "      <th>no</th>\n",
       "      <th>yes</th>\n",
       "    </tr>\n",
       "    <tr>\n",
       "      <th>sex</th>\n",
       "      <th></th>\n",
       "      <th></th>\n",
       "    </tr>\n",
       "  </thead>\n",
       "  <tbody>\n",
       "    <tr>\n",
       "      <th>female</th>\n",
       "      <td>0.514098</td>\n",
       "      <td>0.419708</td>\n",
       "    </tr>\n",
       "    <tr>\n",
       "      <th>male</th>\n",
       "      <td>0.485902</td>\n",
       "      <td>0.580292</td>\n",
       "    </tr>\n",
       "  </tbody>\n",
       "</table>\n",
       "</div>"
      ],
      "text/plain": [
       "smoker        no       yes\n",
       "sex                       \n",
       "female  0.514098  0.419708\n",
       "male    0.485902  0.580292"
      ]
     },
     "execution_count": 32,
     "metadata": {},
     "output_type": "execute_result"
    }
   ],
   "source": [
    "# 열백분율\n",
    "# normalize='index'\n",
    "tab1_col = pd.crosstab(df_ins['sex'], df_ins['smoker'], normalize='columns')\n",
    "tab1_col"
   ]
  },
  {
   "cell_type": "code",
   "execution_count": 33,
   "id": "b2a2cbdf",
   "metadata": {
    "scrolled": false
   },
   "outputs": [
    {
     "data": {
      "image/png": "[encoded data removed]",
      "text/plain": [
       "<Figure size 640x480 with 2 Axes>"
      ]
     },
     "metadata": {},
     "output_type": "display_data"
    }
   ],
   "source": [
    "# 히트맵(열백분율)\n",
    "sns.heatmap(tab1_col, cmap='YlGnBu', annot=True, fmt='.2f')\n",
    "plt.show();"
   ]
  },
  {
   "cell_type": "code",
   "execution_count": 34,
   "id": "40114347",
   "metadata": {},
   "outputs": [
    {
     "data": {
      "text/html": [
       "<div>\n",
       "<style scoped>\n",
       "    .dataframe tbody tr th:only-of-type {\n",
       "        vertical-align: middle;\n",
       "    }\n",
       "\n",
       "    .dataframe tbody tr th {\n",
       "        vertical-align: top;\n",
       "    }\n",
       "\n",
       "    .dataframe thead th {\n",
       "        text-align: right;\n",
       "    }\n",
       "</style>\n",
       "<table border=\"1\" class=\"dataframe\">\n",
       "  <thead>\n",
       "    <tr style=\"text-align: right;\">\n",
       "      <th>smoker</th>\n",
       "      <th>no</th>\n",
       "      <th>yes</th>\n",
       "      <th>All</th>\n",
       "    </tr>\n",
       "    <tr>\n",
       "      <th>sex</th>\n",
       "      <th></th>\n",
       "      <th></th>\n",
       "      <th></th>\n",
       "    </tr>\n",
       "  </thead>\n",
       "  <tbody>\n",
       "    <tr>\n",
       "      <th>female</th>\n",
       "      <td>0.514098</td>\n",
       "      <td>0.419708</td>\n",
       "      <td>0.494768</td>\n",
       "    </tr>\n",
       "    <tr>\n",
       "      <th>male</th>\n",
       "      <td>0.485902</td>\n",
       "      <td>0.580292</td>\n",
       "      <td>0.505232</td>\n",
       "    </tr>\n",
       "  </tbody>\n",
       "</table>\n",
       "</div>"
      ],
      "text/plain": [
       "smoker        no       yes       All\n",
       "sex                                 \n",
       "female  0.514098  0.419708  0.494768\n",
       "male    0.485902  0.580292  0.505232"
      ]
     },
     "execution_count": 34,
     "metadata": {},
     "output_type": "execute_result"
    }
   ],
   "source": [
    "# 전체 비율을 추가한 열백분율\n",
    "# margins=True\n",
    "tab1_col = pd.crosstab(df_ins['sex'], df_ins['smoker'], normalize='columns', margins=True)\n",
    "tab1_col"
   ]
  },
  {
   "cell_type": "code",
   "execution_count": 35,
   "id": "a9c8cfad",
   "metadata": {
    "scrolled": false
   },
   "outputs": [
    {
     "data": {
      "image/png": "[encoded data removed]",
      "text/plain": [
       "<Figure size 640x480 with 2 Axes>"
      ]
     },
     "metadata": {},
     "output_type": "display_data"
    }
   ],
   "source": [
    "# 히트맵(열백분율)\n",
    "sns.heatmap(tab1_col, cmap='YlGnBu', annot=True, fmt='.2f')\n",
    "\n",
    "plt.show();"
   ]
  },
  {
   "cell_type": "markdown",
   "id": "1173a397",
   "metadata": {},
   "source": [
    "#### [실습] 두 범주형 변수의 관계 탐색\n",
    "\n",
    "1. df_sp에서 'race/ethnicity'와 'parental level of education'의 교차표 만들기\n",
    "2. 1.의 교차표에 margin 추가하기\n",
    "3. 1.의 교차표를 seaborn의 heatmap( )으로 열지도로 시각화하기\n",
    "4. 2.의 교차표에서 행 백분율, 열 백분율 계산하고 시각화 하기\n",
    "5. 'race/ethnicity'와 'parental level of education'의 관계 해석하기"
   ]
  },
  {
   "cell_type": "code",
   "execution_count": null,
   "id": "880d0033",
   "metadata": {
    "scrolled": false
   },
   "outputs": [],
   "source": []
  },
  {
   "cell_type": "code",
   "execution_count": null,
   "id": "a87bc0d4",
   "metadata": {},
   "outputs": [],
   "source": []
  },
  {
   "cell_type": "code",
   "execution_count": null,
   "id": "4472d9be",
   "metadata": {},
   "outputs": [],
   "source": []
  },
  {
   "cell_type": "code",
   "execution_count": null,
   "id": "9ae2e2e8",
   "metadata": {},
   "outputs": [],
   "source": []
  },
  {
   "cell_type": "code",
   "execution_count": null,
   "id": "8609ce98",
   "metadata": {},
   "outputs": [],
   "source": []
  },
  {
   "cell_type": "code",
   "execution_count": null,
   "id": "cb32bf06",
   "metadata": {},
   "outputs": [],
   "source": []
  },
  {
   "cell_type": "markdown",
   "id": "d188c617",
   "metadata": {},
   "source": [
    "<br>\n",
    "<br>\n",
    "<br>\n",
    "\n",
    "# 4. 두 수치형 변수의 관계 \n",
    "\n",
    "두 수치형 변수의 관계는 **산점도(scatterplot)**를 그리거나, **상관계수(correlation coefficient)**로 확인할 수 있습니다."
   ]
  },
  {
   "cell_type": "code",
   "execution_count": 36,
   "id": "52899f0d",
   "metadata": {
    "scrolled": true
   },
   "outputs": [
    {
     "name": "stdout",
     "output_type": "stream",
     "text": [
      "(1078, 2)\n"
     ]
    },
    {
     "data": {
      "text/html": [
       "<div>\n",
       "<style scoped>\n",
       "    .dataframe tbody tr th:only-of-type {\n",
       "        vertical-align: middle;\n",
       "    }\n",
       "\n",
       "    .dataframe tbody tr th {\n",
       "        vertical-align: top;\n",
       "    }\n",
       "\n",
       "    .dataframe thead th {\n",
       "        text-align: right;\n",
       "    }\n",
       "</style>\n",
       "<table border=\"1\" class=\"dataframe\">\n",
       "  <thead>\n",
       "    <tr style=\"text-align: right;\">\n",
       "      <th></th>\n",
       "      <th>father</th>\n",
       "      <th>son</th>\n",
       "    </tr>\n",
       "  </thead>\n",
       "  <tbody>\n",
       "    <tr>\n",
       "      <th>0</th>\n",
       "      <td>165.223215</td>\n",
       "      <td>151.836806</td>\n",
       "    </tr>\n",
       "    <tr>\n",
       "      <th>1</th>\n",
       "      <td>160.657388</td>\n",
       "      <td>160.563662</td>\n",
       "    </tr>\n",
       "    <tr>\n",
       "      <th>2</th>\n",
       "      <td>164.986513</td>\n",
       "      <td>160.889747</td>\n",
       "    </tr>\n",
       "    <tr>\n",
       "      <th>3</th>\n",
       "      <td>167.011350</td>\n",
       "      <td>159.492645</td>\n",
       "    </tr>\n",
       "    <tr>\n",
       "      <th>4</th>\n",
       "      <td>155.288564</td>\n",
       "      <td>163.274070</td>\n",
       "    </tr>\n",
       "  </tbody>\n",
       "</table>\n",
       "</div>"
      ],
      "text/plain": [
       "       father         son\n",
       "0  165.223215  151.836806\n",
       "1  160.657388  160.563662\n",
       "2  164.986513  160.889747\n",
       "3  167.011350  159.492645\n",
       "4  155.288564  163.274070"
      ]
     },
     "execution_count": 36,
     "metadata": {},
     "output_type": "execute_result"
    }
   ],
   "source": [
    "# 아빠키와 아들키 데이터 불러오기\n",
    "df_heights = pd.read_csv('data/heights.csv')\n",
    "\n",
    "print(df_heights.shape)\n",
    "df_heights.head()"
   ]
  },
  {
   "cell_type": "markdown",
   "id": "643b6334",
   "metadata": {},
   "source": [
    "<br>\n",
    "\n",
    "### 4.1. 산점도 그리기 "
   ]
  },
  {
   "cell_type": "markdown",
   "id": "1b2f6e45",
   "metadata": {},
   "source": [
    "### 아빠키와 아들키의 산점도와 추세선 그리기"
   ]
  },
  {
   "cell_type": "code",
   "execution_count": 37,
   "id": "d444d9cf",
   "metadata": {},
   "outputs": [],
   "source": [
    "# 각 변수 평균 계산\n"
   ]
  },
  {
   "cell_type": "code",
   "execution_count": 38,
   "id": "1b0393c7",
   "metadata": {},
   "outputs": [],
   "source": [
    "# seaborn으로 산점도 그리기\n"
   ]
  },
  {
   "cell_type": "code",
   "execution_count": 39,
   "id": "cb547594",
   "metadata": {},
   "outputs": [
    {
     "data": {
      "image/png": "[encoded data removed]",
      "text/plain": [
       "<Figure size 640x480 with 1 Axes>"
      ]
     },
     "metadata": {},
     "output_type": "display_data"
    }
   ],
   "source": [
    "# 추세선 그리기 : regplot() 함수\n",
    "sns.regplot(x='father', y='son', data=df_heights)\n",
    "\n",
    "plt.show();"
   ]
  },
  {
   "cell_type": "code",
   "execution_count": 40,
   "id": "a7b31dc5",
   "metadata": {},
   "outputs": [
    {
     "data": {
      "text/plain": [
       "array([ 0.51409304, 86.07197506])"
      ]
     },
     "execution_count": 40,
     "metadata": {},
     "output_type": "execute_result"
    }
   ],
   "source": [
    "# 기울기와 절편 확인\n",
    "z = np.polyfit(df_heights['father'], df_heights['son'], 1)\n",
    "z   # 기울기는 0.51,  절편은 86.07"
   ]
  },
  {
   "cell_type": "code",
   "execution_count": 41,
   "id": "b7e65ad9",
   "metadata": {},
   "outputs": [],
   "source": [
    "# 아빠키와 아들키의 회귀식\n"
   ]
  },
  {
   "cell_type": "markdown",
   "id": "d5528224",
   "metadata": {},
   "source": [
    "<br>\n",
    "\n",
    "### 4.2. 공분산과 상관계수"
   ]
  },
  {
   "cell_type": "markdown",
   "id": "40b20d26",
   "metadata": {},
   "source": [
    "### 아빠키와 아들키의 상관계수"
   ]
  },
  {
   "cell_type": "code",
   "execution_count": 42,
   "id": "c147b144",
   "metadata": {
    "scrolled": true
   },
   "outputs": [],
   "source": [
    "# 아빠키와 아들키의 공분산\n"
   ]
  },
  {
   "cell_type": "code",
   "execution_count": 43,
   "id": "e34ba1e3",
   "metadata": {},
   "outputs": [],
   "source": [
    "# 변수 간 상관계수 matrix 구하기\n"
   ]
  },
  {
   "cell_type": "code",
   "execution_count": 44,
   "id": "dbde6de8",
   "metadata": {},
   "outputs": [],
   "source": [
    "# iloc를 이용하면 데이터프레임의 특정 인덱스의 값만 뽑아낼 수 있다.\n"
   ]
  },
  {
   "cell_type": "markdown",
   "id": "ae8cbcb8",
   "metadata": {},
   "source": [
    "### 공부시간과 점수의 상관계수"
   ]
  },
  {
   "cell_type": "code",
   "execution_count": 45,
   "id": "d96b617b",
   "metadata": {},
   "outputs": [],
   "source": [
    "import numpy as np\n",
    "import pandas as pd\n",
    "\n",
    "# 다음 두 변수(공부시간, 점수)의 상관계수 구하기\n",
    "x = [0, 4, 3, 6, 6, 7, 8, 8, 3]\n",
    "y = [60, 78, 83, 74, 100, 80, 90, 85, 70]"
   ]
  },
  {
   "cell_type": "code",
   "execution_count": 46,
   "id": "7c9dc693",
   "metadata": {},
   "outputs": [
    {
     "name": "stdout",
     "output_type": "stream",
     "text": [
      "0.7011677154273752\n"
     ]
    }
   ],
   "source": [
    "# 방법1. numpy 함수로 상관계수 구하기\n",
    "corr_np = np.corrcoef(x, y)[0, 1]\n",
    "print(corr_np)"
   ]
  },
  {
   "cell_type": "code",
   "execution_count": 47,
   "id": "5fd50269",
   "metadata": {},
   "outputs": [
    {
     "data": {
      "text/html": [
       "<div>\n",
       "<style scoped>\n",
       "    .dataframe tbody tr th:only-of-type {\n",
       "        vertical-align: middle;\n",
       "    }\n",
       "\n",
       "    .dataframe tbody tr th {\n",
       "        vertical-align: top;\n",
       "    }\n",
       "\n",
       "    .dataframe thead th {\n",
       "        text-align: right;\n",
       "    }\n",
       "</style>\n",
       "<table border=\"1\" class=\"dataframe\">\n",
       "  <thead>\n",
       "    <tr style=\"text-align: right;\">\n",
       "      <th></th>\n",
       "      <th>x</th>\n",
       "      <th>y</th>\n",
       "    </tr>\n",
       "  </thead>\n",
       "  <tbody>\n",
       "    <tr>\n",
       "      <th>0</th>\n",
       "      <td>0</td>\n",
       "      <td>60</td>\n",
       "    </tr>\n",
       "    <tr>\n",
       "      <th>1</th>\n",
       "      <td>4</td>\n",
       "      <td>78</td>\n",
       "    </tr>\n",
       "    <tr>\n",
       "      <th>2</th>\n",
       "      <td>3</td>\n",
       "      <td>83</td>\n",
       "    </tr>\n",
       "    <tr>\n",
       "      <th>3</th>\n",
       "      <td>6</td>\n",
       "      <td>74</td>\n",
       "    </tr>\n",
       "    <tr>\n",
       "      <th>4</th>\n",
       "      <td>6</td>\n",
       "      <td>100</td>\n",
       "    </tr>\n",
       "    <tr>\n",
       "      <th>5</th>\n",
       "      <td>7</td>\n",
       "      <td>80</td>\n",
       "    </tr>\n",
       "    <tr>\n",
       "      <th>6</th>\n",
       "      <td>8</td>\n",
       "      <td>90</td>\n",
       "    </tr>\n",
       "    <tr>\n",
       "      <th>7</th>\n",
       "      <td>8</td>\n",
       "      <td>85</td>\n",
       "    </tr>\n",
       "    <tr>\n",
       "      <th>8</th>\n",
       "      <td>3</td>\n",
       "      <td>70</td>\n",
       "    </tr>\n",
       "  </tbody>\n",
       "</table>\n",
       "</div>"
      ],
      "text/plain": [
       "   x    y\n",
       "0  0   60\n",
       "1  4   78\n",
       "2  3   83\n",
       "3  6   74\n",
       "4  6  100\n",
       "5  7   80\n",
       "6  8   90\n",
       "7  8   85\n",
       "8  3   70"
      ]
     },
     "execution_count": 47,
     "metadata": {},
     "output_type": "execute_result"
    }
   ],
   "source": [
    "# 방법2. 데이터를 데이터프레임으로 만든 후에 pandas 함수로 상관계수 구하기\n",
    "df = pd.DataFrame({\"x\": x, \"y\": y})\n",
    "df"
   ]
  },
  {
   "cell_type": "code",
   "execution_count": 48,
   "id": "de71e810",
   "metadata": {},
   "outputs": [
    {
     "data": {
      "text/html": [
       "<div>\n",
       "<style scoped>\n",
       "    .dataframe tbody tr th:only-of-type {\n",
       "        vertical-align: middle;\n",
       "    }\n",
       "\n",
       "    .dataframe tbody tr th {\n",
       "        vertical-align: top;\n",
       "    }\n",
       "\n",
       "    .dataframe thead th {\n",
       "        text-align: right;\n",
       "    }\n",
       "</style>\n",
       "<table border=\"1\" class=\"dataframe\">\n",
       "  <thead>\n",
       "    <tr style=\"text-align: right;\">\n",
       "      <th></th>\n",
       "      <th>x</th>\n",
       "      <th>y</th>\n",
       "    </tr>\n",
       "  </thead>\n",
       "  <tbody>\n",
       "    <tr>\n",
       "      <th>x</th>\n",
       "      <td>1.000000</td>\n",
       "      <td>0.701168</td>\n",
       "    </tr>\n",
       "    <tr>\n",
       "      <th>y</th>\n",
       "      <td>0.701168</td>\n",
       "      <td>1.000000</td>\n",
       "    </tr>\n",
       "  </tbody>\n",
       "</table>\n",
       "</div>"
      ],
      "text/plain": [
       "          x         y\n",
       "x  1.000000  0.701168\n",
       "y  0.701168  1.000000"
      ]
     },
     "execution_count": 48,
     "metadata": {},
     "output_type": "execute_result"
    }
   ],
   "source": [
    "corr_pd = df.corr()\n",
    "corr_pd"
   ]
  },
  {
   "cell_type": "code",
   "execution_count": 49,
   "id": "84424578",
   "metadata": {},
   "outputs": [
    {
     "data": {
      "text/plain": [
       "0.7011677154273749"
      ]
     },
     "execution_count": 49,
     "metadata": {},
     "output_type": "execute_result"
    }
   ],
   "source": [
    "# 상관계수\n",
    "corr_pd.iloc[0, 1]  "
   ]
  },
  {
   "cell_type": "markdown",
   "id": "a641b83a",
   "metadata": {},
   "source": [
    "<br>\n",
    "\n",
    "#### [실습] 두 수치형 변수의 관계 탐색(산점도, 상관계수)\n",
    " \n",
    "1. **df_sp**에서 'math score'와 'reading score'의 산점도를 그리기\n",
    "2. 1.의 그래프에 두 변수의 평균을 활용해서 수직선, 수평선 추가하기\n",
    "3. 1.의 두 변수의 상관계수 계산하기  \n",
    "4. 산점도 그리기  \n",
    "4-1. **df_ins**에서 bmi와 charges의 산점도를 그리고 상관계수 계산하기  \n",
    "4-2. hue 옵션을 이용해서, smoker 분류에 따른 bmi와 charge의 산점도 그리기  \n",
    "5. df_ins에서 smoker별 분할 데이터를 생성하고, smoker별 분할 데이터로 bmi와 charges의 상관계수를 나눠 계산하기"
   ]
  },
  {
   "cell_type": "code",
   "execution_count": null,
   "id": "05caa140",
   "metadata": {},
   "outputs": [],
   "source": []
  },
  {
   "cell_type": "code",
   "execution_count": null,
   "id": "ac67fdc4",
   "metadata": {},
   "outputs": [],
   "source": []
  },
  {
   "cell_type": "code",
   "execution_count": null,
   "id": "4a457b9c",
   "metadata": {},
   "outputs": [],
   "source": []
  },
  {
   "cell_type": "code",
   "execution_count": null,
   "id": "3b216c4a",
   "metadata": {},
   "outputs": [],
   "source": []
  },
  {
   "cell_type": "code",
   "execution_count": null,
   "id": "41a1a5f3",
   "metadata": {},
   "outputs": [],
   "source": []
  },
  {
   "cell_type": "code",
   "execution_count": null,
   "id": "b09c209d",
   "metadata": {},
   "outputs": [],
   "source": []
  },
  {
   "cell_type": "code",
   "execution_count": 50,
   "id": "11ca1af3",
   "metadata": {},
   "outputs": [],
   "source": [
    "# 5. df_ins에서 smoker별 분할 데이터를 생성하고, smoker별 분할 데이터로 bmi와 charges의 상관계수를 나눠 계산하기\n",
    "df_ins_smoker = df_ins[df_ins['smoker'] == 'yes']\n",
    "df_ins_nonsmoker = df_ins[df_ins['smoker'] == 'no']"
   ]
  },
  {
   "cell_type": "code",
   "execution_count": null,
   "id": "d11182d3",
   "metadata": {},
   "outputs": [],
   "source": []
  },
  {
   "cell_type": "code",
   "execution_count": null,
   "id": "19578f82",
   "metadata": {},
   "outputs": [],
   "source": []
  },
  {
   "cell_type": "code",
   "execution_count": null,
   "id": "cb602e54",
   "metadata": {},
   "outputs": [],
   "source": []
  },
  {
   "cell_type": "code",
   "execution_count": null,
   "id": "f6604371",
   "metadata": {},
   "outputs": [],
   "source": []
  },
  {
   "cell_type": "markdown",
   "id": "c6ca5de2",
   "metadata": {},
   "source": [
    "<br>\n",
    "<br>\n",
    "<br>\n",
    "\n",
    "\n",
    "# 5. 범주형 변수와 수치형 변수의 관계\n",
    "\n",
    "범주형 변수 그룹 별 평균을 계산하고, 상자그림을 그려서 비교해보자  \n",
    "`groupby()`로 그룹핑 후 집계함수(sum, mean 등)를 적용해보자"
   ]
  },
  {
   "cell_type": "markdown",
   "id": "9b56179d",
   "metadata": {},
   "source": [
    "<br>\n",
    "\n",
    "### 5.1. 그룹별 집계값의 계산"
   ]
  },
  {
   "cell_type": "code",
   "execution_count": 51,
   "id": "3efcc422",
   "metadata": {
    "scrolled": true
   },
   "outputs": [],
   "source": [
    "# 한 수치형 변수의 평균 계산\n"
   ]
  },
  {
   "cell_type": "code",
   "execution_count": 52,
   "id": "c1f873de",
   "metadata": {},
   "outputs": [],
   "source": [
    "# 그룹별 평균 계산\n",
    "# as_index=False 옵션 : 해당 변수가 index로 사용 안되도록.\n"
   ]
  },
  {
   "cell_type": "markdown",
   "id": "4f894a55",
   "metadata": {},
   "source": [
    "<br>\n",
    "\n",
    "### 5.2. 그래프를 활용한 그룹별 분포 비교"
   ]
  },
  {
   "cell_type": "code",
   "execution_count": 53,
   "id": "81fdbbc8",
   "metadata": {},
   "outputs": [
    {
     "data": {
      "image/png": "[encoded data removed]",
      "text/plain": [
       "<Figure size 640x480 with 1 Axes>"
      ]
     },
     "metadata": {},
     "output_type": "display_data"
    }
   ],
   "source": [
    "# charges의 히스토그램 \n",
    "sns.histplot(data=df_ins, x='charges') \n",
    "plt.show(); "
   ]
  },
  {
   "cell_type": "code",
   "execution_count": 54,
   "id": "677eb379",
   "metadata": {
    "scrolled": false
   },
   "outputs": [],
   "source": [
    "# 성별 구분 추가한 charges 히스토그램 \n"
   ]
  },
  {
   "cell_type": "code",
   "execution_count": 55,
   "id": "fccb1c13",
   "metadata": {},
   "outputs": [],
   "source": [
    "# 성별 구분(stack 적용)한 charges 히스토그램 \n",
    "# multiple='stack' : 수준(level) 별 누적으로  그래프 표현\n"
   ]
  },
  {
   "cell_type": "code",
   "execution_count": 56,
   "id": "52f3d65d",
   "metadata": {},
   "outputs": [
    {
     "data": {
      "image/png": "[encoded data removed]",
      "text/plain": [
       "<Figure size 640x480 with 1 Axes>"
      ]
     },
     "metadata": {},
     "output_type": "display_data"
    }
   ],
   "source": [
    "# region 별 charges 분포\n",
    "sns.histplot(data=df_ins, \n",
    "             x='charges',\n",
    "             hue='region', \n",
    "             multiple='stack')\n",
    "\n",
    "plt.show();"
   ]
  },
  {
   "cell_type": "code",
   "execution_count": 57,
   "id": "e40ac978",
   "metadata": {},
   "outputs": [
    {
     "data": {
      "image/png": "[encoded data removed]",
      "text/plain": [
       "<Figure size 640x480 with 1 Axes>"
      ]
     },
     "metadata": {},
     "output_type": "display_data"
    }
   ],
   "source": [
    "# 상자그림으로 그룹별 분포 비교 가능\n",
    "sns.boxplot(data=df_ins,\n",
    "            x='sex', \n",
    "            y='charges')\n",
    "\n",
    "plt.show();"
   ]
  },
  {
   "cell_type": "code",
   "execution_count": 58,
   "id": "7b149660",
   "metadata": {},
   "outputs": [],
   "source": [
    "# 지역별 상자그림\n"
   ]
  },
  {
   "cell_type": "markdown",
   "id": "093b0416",
   "metadata": {},
   "source": [
    "<br>\n",
    "<br>\n",
    "\n",
    "#### [실습] 변수 관계 탐색\n",
    "\n",
    "1. 데이터 df_sp에서 `gender`별 `math score`의 평균을 계산하기 \n",
    "2. 1의 두 변수를 활용해서 히스토그램과 상자그림 그리기\n",
    "3. 데이터 df_sp에서 `parental level of education`별 `reading score`의 평균 계산하기\n",
    "4. 3의 두 변수를 활용해서 히스토그램과 상자그림 그리기\n",
    "\n"
   ]
  },
  {
   "cell_type": "code",
   "execution_count": 59,
   "id": "69b7d1f3",
   "metadata": {},
   "outputs": [
    {
     "data": {
      "text/html": [
       "<div>\n",
       "<style scoped>\n",
       "    .dataframe tbody tr th:only-of-type {\n",
       "        vertical-align: middle;\n",
       "    }\n",
       "\n",
       "    .dataframe tbody tr th {\n",
       "        vertical-align: top;\n",
       "    }\n",
       "\n",
       "    .dataframe thead th {\n",
       "        text-align: right;\n",
       "    }\n",
       "</style>\n",
       "<table border=\"1\" class=\"dataframe\">\n",
       "  <thead>\n",
       "    <tr style=\"text-align: right;\">\n",
       "      <th></th>\n",
       "      <th>gender</th>\n",
       "      <th>race/ethnicity</th>\n",
       "      <th>parental level of education</th>\n",
       "      <th>lunch</th>\n",
       "      <th>test preparation course</th>\n",
       "      <th>math score</th>\n",
       "      <th>reading score</th>\n",
       "      <th>writing score</th>\n",
       "    </tr>\n",
       "  </thead>\n",
       "  <tbody>\n",
       "    <tr>\n",
       "      <th>0</th>\n",
       "      <td>female</td>\n",
       "      <td>group B</td>\n",
       "      <td>bachelor's degree</td>\n",
       "      <td>standard</td>\n",
       "      <td>none</td>\n",
       "      <td>72</td>\n",
       "      <td>72</td>\n",
       "      <td>74</td>\n",
       "    </tr>\n",
       "    <tr>\n",
       "      <th>1</th>\n",
       "      <td>female</td>\n",
       "      <td>group C</td>\n",
       "      <td>some college</td>\n",
       "      <td>standard</td>\n",
       "      <td>completed</td>\n",
       "      <td>69</td>\n",
       "      <td>90</td>\n",
       "      <td>88</td>\n",
       "    </tr>\n",
       "    <tr>\n",
       "      <th>2</th>\n",
       "      <td>female</td>\n",
       "      <td>group B</td>\n",
       "      <td>master's degree</td>\n",
       "      <td>standard</td>\n",
       "      <td>none</td>\n",
       "      <td>90</td>\n",
       "      <td>95</td>\n",
       "      <td>93</td>\n",
       "    </tr>\n",
       "    <tr>\n",
       "      <th>3</th>\n",
       "      <td>male</td>\n",
       "      <td>group A</td>\n",
       "      <td>associate's degree</td>\n",
       "      <td>free/reduced</td>\n",
       "      <td>none</td>\n",
       "      <td>47</td>\n",
       "      <td>57</td>\n",
       "      <td>44</td>\n",
       "    </tr>\n",
       "    <tr>\n",
       "      <th>4</th>\n",
       "      <td>male</td>\n",
       "      <td>group C</td>\n",
       "      <td>some college</td>\n",
       "      <td>standard</td>\n",
       "      <td>none</td>\n",
       "      <td>76</td>\n",
       "      <td>78</td>\n",
       "      <td>75</td>\n",
       "    </tr>\n",
       "  </tbody>\n",
       "</table>\n",
       "</div>"
      ],
      "text/plain": [
       "   gender race/ethnicity parental level of education         lunch  \\\n",
       "0  female        group B           bachelor's degree      standard   \n",
       "1  female        group C                some college      standard   \n",
       "2  female        group B             master's degree      standard   \n",
       "3    male        group A          associate's degree  free/reduced   \n",
       "4    male        group C                some college      standard   \n",
       "\n",
       "  test preparation course  math score  reading score  writing score  \n",
       "0                    none          72             72             74  \n",
       "1               completed          69             90             88  \n",
       "2                    none          90             95             93  \n",
       "3                    none          47             57             44  \n",
       "4                    none          76             78             75  "
      ]
     },
     "execution_count": 59,
     "metadata": {},
     "output_type": "execute_result"
    }
   ],
   "source": [
    "df_sp.head()"
   ]
  },
  {
   "cell_type": "code",
   "execution_count": null,
   "id": "f9d252d7",
   "metadata": {},
   "outputs": [],
   "source": []
  },
  {
   "cell_type": "code",
   "execution_count": null,
   "id": "f6201855",
   "metadata": {},
   "outputs": [],
   "source": []
  },
  {
   "cell_type": "code",
   "execution_count": null,
   "id": "afd3fee5",
   "metadata": {},
   "outputs": [],
   "source": []
  },
  {
   "cell_type": "code",
   "execution_count": null,
   "id": "008ec366",
   "metadata": {},
   "outputs": [],
   "source": []
  },
  {
   "cell_type": "code",
   "execution_count": null,
   "id": "468c82f2",
   "metadata": {},
   "outputs": [],
   "source": []
  },
  {
   "cell_type": "markdown",
   "id": "c9316ce4",
   "metadata": {},
   "source": [
    "<br>\n",
    "<br>\n",
    "<br>\n",
    "<br>\n",
    "\n",
    "### (참고) 피벗 테이블 활용"
   ]
  },
  {
   "cell_type": "code",
   "execution_count": 60,
   "id": "88ed87b2",
   "metadata": {},
   "outputs": [
    {
     "data": {
      "text/html": [
       "<div>\n",
       "<style scoped>\n",
       "    .dataframe tbody tr th:only-of-type {\n",
       "        vertical-align: middle;\n",
       "    }\n",
       "\n",
       "    .dataframe tbody tr th {\n",
       "        vertical-align: top;\n",
       "    }\n",
       "\n",
       "    .dataframe thead th {\n",
       "        text-align: right;\n",
       "    }\n",
       "</style>\n",
       "<table border=\"1\" class=\"dataframe\">\n",
       "  <thead>\n",
       "    <tr style=\"text-align: right;\">\n",
       "      <th>region</th>\n",
       "      <th>northeast</th>\n",
       "      <th>northwest</th>\n",
       "      <th>southeast</th>\n",
       "      <th>southwest</th>\n",
       "    </tr>\n",
       "    <tr>\n",
       "      <th>sex</th>\n",
       "      <th></th>\n",
       "      <th></th>\n",
       "      <th></th>\n",
       "      <th></th>\n",
       "    </tr>\n",
       "  </thead>\n",
       "  <tbody>\n",
       "    <tr>\n",
       "      <th>female</th>\n",
       "      <td>12953.203151</td>\n",
       "      <td>12479.870397</td>\n",
       "      <td>13499.669243</td>\n",
       "      <td>11274.411264</td>\n",
       "    </tr>\n",
       "    <tr>\n",
       "      <th>male</th>\n",
       "      <td>13854.005374</td>\n",
       "      <td>12354.119575</td>\n",
       "      <td>15879.617173</td>\n",
       "      <td>13412.883576</td>\n",
       "    </tr>\n",
       "  </tbody>\n",
       "</table>\n",
       "</div>"
      ],
      "text/plain": [
       "region     northeast     northwest     southeast     southwest\n",
       "sex                                                           \n",
       "female  12953.203151  12479.870397  13499.669243  11274.411264\n",
       "male    13854.005374  12354.119575  15879.617173  13412.883576"
      ]
     },
     "execution_count": 60,
     "metadata": {},
     "output_type": "execute_result"
    }
   ],
   "source": [
    "# pivot_table()을 활용한 피벗 테이블 : 데이터의 행,열을 새롭게 설정하여 원하는 값 확인\n",
    "\n",
    "# Q.성별 보험료 평균값이 가장 높은 지역은 어디일까?\n",
    "agg = df_ins.pivot_table(index='sex', columns='region', values='charges', aggfunc='mean')\n",
    "agg\n",
    "\n",
    "# index  : 행 그룹변수\n",
    "# columns: 열 그룹변수 \n",
    "# values : 값 변수\n",
    "# aggfunc: 집계 함수"
   ]
  },
  {
   "cell_type": "code",
   "execution_count": 61,
   "id": "1429bbf9",
   "metadata": {},
   "outputs": [
    {
     "data": {
      "image/png": "[encoded data removed]",
      "text/plain": [
       "<Figure size 640x480 with 2 Axes>"
      ]
     },
     "metadata": {},
     "output_type": "display_data"
    }
   ],
   "source": [
    "# 교차표 그린것 히트맵 그리기\n",
    "sns.heatmap(agg, cmap='YlGnBu', annot=True, fmt='.0f')\n",
    "plt.show();"
   ]
  },
  {
   "cell_type": "code",
   "execution_count": 62,
   "id": "78c72e1b",
   "metadata": {},
   "outputs": [],
   "source": [
    "# Q.성별 보험료 평균값이 가장 높은 지역은 어디일까?\n",
    "# A. southeast에 사는 남성의 평균 보험료가 가장 높다."
   ]
  },
  {
   "cell_type": "markdown",
   "id": "438a6fcf",
   "metadata": {},
   "source": [
    "#### End of script"
   ]
  }
 ],
 "metadata": {
  "kernelspec": {
   "display_name": "Python 3",
   "language": "python",
   "name": "python3"
  },
  "language_info": {
   "codemirror_mode": {
    "name": "ipython",
    "version": 3
   },
   "file_extension": ".py",
   "mimetype": "text/x-python",
   "name": "python",
   "nbconvert_exporter": "python",
   "pygments_lexer": "ipython3",
   "version": "3.8.8"
  },
  "varInspector": {
   "cols": {
    "lenName": 16,
    "lenType": 16,
    "lenVar": 40
   },
   "kernels_config": {
    "python": {
     "delete_cmd_postfix": "",
     "delete_cmd_prefix": "del ",
     "library": "var_list.py",
     "varRefreshCmd": "print(var_dic_list())"
    },
    "r": {
     "delete_cmd_postfix": ") ",
     "delete_cmd_prefix": "rm(",
     "library": "var_list.r",
     "varRefreshCmd": "cat(var_dic_list()) "
    }
   },
   "types_to_exclude": [
    "module",
    "function",
    "builtin_function_or_method",
    "instance",
    "_Feature"
   ],
   "window_display": false
  }
 },
 "nbformat": 4,
 "nbformat_minor": 5
}
